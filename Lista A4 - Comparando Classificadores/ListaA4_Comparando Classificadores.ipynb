{
  "cells": [
    {
      "cell_type": "markdown",
      "metadata": {
        "deletable": false,
        "editable": false,
        "nbgrader": {
          "checksum": "796114292f40d93792b787b19fbed7ee",
          "grade": false,
          "grade_id": "cellc-a00",
          "locked": true,
          "schema_version": 1,
          "solution": false
        },
        "id": "9DX52SnYm63_"
      },
      "source": [
        "# Lista Aberta do Módulo 4 - Comparando Classificadores"
      ]
    },
    {
      "cell_type": "markdown",
      "source": [
        "**Regras para envio:**\n",
        "\n",
        "1. Faça uma cópia deste arquivo\n",
        "2. Deixe o arquivo aberto para qualquer pessoa com o link (Share > Anyone with the link)\n",
        "3. Garanta que as saídas do notebook estão salvas (Settings > deixe desligada a opção (New notebooks use private outputs (omit outputs when saving)), e acesse o link depois em outro navegador para garantir que estão!)\n",
        "4. Digite seu nome ##**Lorrayne Somerlatte dos Santos**###\n",
        "5. Após finalizar o exercício, poste o link (apenas o link!) no moodle.\n",
        "\n",
        "**Atenção**: como temos pouco tempo para o fechamento do semestre, por favor garantam que seus links estão corretos! Não teremos tempo para correções. É essencial que os alunos de ICD saibam usar o Google Colab."
      ],
      "metadata": {
        "id": "rHUqhVKioqnO"
      }
    },
    {
      "cell_type": "markdown",
      "source": [
        "## Identificação de malignidade em tumores de mama - UCI ML Breast Cancer Wisconsin (Diagnostic)"
      ],
      "metadata": {
        "id": "DeaO2FXyGjNL"
      }
    },
    {
      "cell_type": "markdown",
      "source": [
        "Neste trabalho você deverá realizar uma comparação entre o k-Nearest Neighbors (KNN) e o Random Forest para classificação de pacientes com tumores na mama (maligno = 1 vs benigno = 0). Para isso, usaremos o dataset de câncer de mama de UCI (já embutido no sklearn).\n",
        "\n",
        "A avaliação dos métodos deverá ser feito usando precisão, revocação e F1. Você também deve reportar a matriz de confusão.\n",
        "\n",
        "Você não precisa implementar os métodos, já que estão disponíveis na biblioteca scikit-learn da linguagem Python. Se necessário, pode fazer mais importações de bibliotecas."
      ],
      "metadata": {
        "id": "XWz0JIVkAiGv"
      }
    },
    {
      "cell_type": "markdown",
      "source": [
        "## Importando módulos e baixando dataset"
      ],
      "metadata": {
        "id": "3TVWlLvOLhR0"
      }
    },
    {
      "cell_type": "code",
      "source": [
        "import warnings\n",
        "warnings.filterwarnings('ignore')"
      ],
      "metadata": {
        "id": "gyRas4Ba25qY"
      },
      "execution_count": null,
      "outputs": []
    },
    {
      "cell_type": "code",
      "source": [
        "from sklearn.datasets import load_breast_cancer\n",
        "import pandas as pd\n",
        "import numpy as np\n",
        "from sklearn import metrics\n",
        "from sklearn.ensemble import RandomForestClassifier\n",
        "from sklearn.neighbors import KNeighborsClassifier\n",
        "from sklearn.model_selection import StratifiedKFold"
      ],
      "metadata": {
        "id": "TABP0905EhnN"
      },
      "execution_count": null,
      "outputs": []
    },
    {
      "cell_type": "code",
      "source": [
        "cancer = load_breast_cancer()\n",
        "df = pd.DataFrame(cancer.data,columns =[cancer.feature_names])"
      ],
      "metadata": {
        "id": "D4K2s0aPEilP"
      },
      "execution_count": null,
      "outputs": []
    },
    {
      "cell_type": "code",
      "source": [
        "print(cancer.DESCR)"
      ],
      "metadata": {
        "colab": {
          "base_uri": "https://localhost:8080/"
        },
        "id": "DsVjiyU1FRYi",
        "outputId": "ef3082f5-29cd-428a-c90a-b5bffece0395"
      },
      "execution_count": null,
      "outputs": [
        {
          "output_type": "stream",
          "name": "stdout",
          "text": [
            ".. _breast_cancer_dataset:\n",
            "\n",
            "Breast cancer wisconsin (diagnostic) dataset\n",
            "--------------------------------------------\n",
            "\n",
            "**Data Set Characteristics:**\n",
            "\n",
            "    :Number of Instances: 569\n",
            "\n",
            "    :Number of Attributes: 30 numeric, predictive attributes and the class\n",
            "\n",
            "    :Attribute Information:\n",
            "        - radius (mean of distances from center to points on the perimeter)\n",
            "        - texture (standard deviation of gray-scale values)\n",
            "        - perimeter\n",
            "        - area\n",
            "        - smoothness (local variation in radius lengths)\n",
            "        - compactness (perimeter^2 / area - 1.0)\n",
            "        - concavity (severity of concave portions of the contour)\n",
            "        - concave points (number of concave portions of the contour)\n",
            "        - symmetry\n",
            "        - fractal dimension (\"coastline approximation\" - 1)\n",
            "\n",
            "        The mean, standard error, and \"worst\" or largest (mean of the three\n",
            "        worst/largest values) of these features were computed for each image,\n",
            "        resulting in 30 features.  For instance, field 0 is Mean Radius, field\n",
            "        10 is Radius SE, field 20 is Worst Radius.\n",
            "\n",
            "        - class:\n",
            "                - WDBC-Malignant\n",
            "                - WDBC-Benign\n",
            "\n",
            "    :Summary Statistics:\n",
            "\n",
            "    ===================================== ====== ======\n",
            "                                           Min    Max\n",
            "    ===================================== ====== ======\n",
            "    radius (mean):                        6.981  28.11\n",
            "    texture (mean):                       9.71   39.28\n",
            "    perimeter (mean):                     43.79  188.5\n",
            "    area (mean):                          143.5  2501.0\n",
            "    smoothness (mean):                    0.053  0.163\n",
            "    compactness (mean):                   0.019  0.345\n",
            "    concavity (mean):                     0.0    0.427\n",
            "    concave points (mean):                0.0    0.201\n",
            "    symmetry (mean):                      0.106  0.304\n",
            "    fractal dimension (mean):             0.05   0.097\n",
            "    radius (standard error):              0.112  2.873\n",
            "    texture (standard error):             0.36   4.885\n",
            "    perimeter (standard error):           0.757  21.98\n",
            "    area (standard error):                6.802  542.2\n",
            "    smoothness (standard error):          0.002  0.031\n",
            "    compactness (standard error):         0.002  0.135\n",
            "    concavity (standard error):           0.0    0.396\n",
            "    concave points (standard error):      0.0    0.053\n",
            "    symmetry (standard error):            0.008  0.079\n",
            "    fractal dimension (standard error):   0.001  0.03\n",
            "    radius (worst):                       7.93   36.04\n",
            "    texture (worst):                      12.02  49.54\n",
            "    perimeter (worst):                    50.41  251.2\n",
            "    area (worst):                         185.2  4254.0\n",
            "    smoothness (worst):                   0.071  0.223\n",
            "    compactness (worst):                  0.027  1.058\n",
            "    concavity (worst):                    0.0    1.252\n",
            "    concave points (worst):               0.0    0.291\n",
            "    symmetry (worst):                     0.156  0.664\n",
            "    fractal dimension (worst):            0.055  0.208\n",
            "    ===================================== ====== ======\n",
            "\n",
            "    :Missing Attribute Values: None\n",
            "\n",
            "    :Class Distribution: 212 - Malignant, 357 - Benign\n",
            "\n",
            "    :Creator:  Dr. William H. Wolberg, W. Nick Street, Olvi L. Mangasarian\n",
            "\n",
            "    :Donor: Nick Street\n",
            "\n",
            "    :Date: November, 1995\n",
            "\n",
            "This is a copy of UCI ML Breast Cancer Wisconsin (Diagnostic) datasets.\n",
            "https://goo.gl/U2Uwz2\n",
            "\n",
            "Features are computed from a digitized image of a fine needle\n",
            "aspirate (FNA) of a breast mass.  They describe\n",
            "characteristics of the cell nuclei present in the image.\n",
            "\n",
            "Separating plane described above was obtained using\n",
            "Multisurface Method-Tree (MSM-T) [K. P. Bennett, \"Decision Tree\n",
            "Construction Via Linear Programming.\" Proceedings of the 4th\n",
            "Midwest Artificial Intelligence and Cognitive Science Society,\n",
            "pp. 97-101, 1992], a classification method which uses linear\n",
            "programming to construct a decision tree.  Relevant features\n",
            "were selected using an exhaustive search in the space of 1-4\n",
            "features and 1-3 separating planes.\n",
            "\n",
            "The actual linear program used to obtain the separating plane\n",
            "in the 3-dimensional space is that described in:\n",
            "[K. P. Bennett and O. L. Mangasarian: \"Robust Linear\n",
            "Programming Discrimination of Two Linearly Inseparable Sets\",\n",
            "Optimization Methods and Software 1, 1992, 23-34].\n",
            "\n",
            "This database is also available through the UW CS ftp server:\n",
            "\n",
            "ftp ftp.cs.wisc.edu\n",
            "cd math-prog/cpo-dataset/machine-learn/WDBC/\n",
            "\n",
            ".. topic:: References\n",
            "\n",
            "   - W.N. Street, W.H. Wolberg and O.L. Mangasarian. Nuclear feature extraction \n",
            "     for breast tumor diagnosis. IS&T/SPIE 1993 International Symposium on \n",
            "     Electronic Imaging: Science and Technology, volume 1905, pages 861-870,\n",
            "     San Jose, CA, 1993.\n",
            "   - O.L. Mangasarian, W.N. Street and W.H. Wolberg. Breast cancer diagnosis and \n",
            "     prognosis via linear programming. Operations Research, 43(4), pages 570-577, \n",
            "     July-August 1995.\n",
            "   - W.H. Wolberg, W.N. Street, and O.L. Mangasarian. Machine learning techniques\n",
            "     to diagnose breast cancer from fine-needle aspirates. Cancer Letters 77 (1994) \n",
            "     163-171.\n"
          ]
        }
      ]
    },
    {
      "cell_type": "code",
      "source": [
        "#Para acessar as labels\n",
        "cancer.target"
      ],
      "metadata": {
        "id": "X8MSrfbN5PF_",
        "colab": {
          "base_uri": "https://localhost:8080/"
        },
        "outputId": "cc4b007b-7413-4f46-f9bb-976ec6c20419"
      },
      "execution_count": null,
      "outputs": [
        {
          "output_type": "execute_result",
          "data": {
            "text/plain": [
              "array([0, 0, 0, 0, 0, 0, 0, 0, 0, 0, 0, 0, 0, 0, 0, 0, 0, 0, 0, 1, 1, 1,\n",
              "       0, 0, 0, 0, 0, 0, 0, 0, 0, 0, 0, 0, 0, 0, 0, 1, 0, 0, 0, 0, 0, 0,\n",
              "       0, 0, 1, 0, 1, 1, 1, 1, 1, 0, 0, 1, 0, 0, 1, 1, 1, 1, 0, 1, 0, 0,\n",
              "       1, 1, 1, 1, 0, 1, 0, 0, 1, 0, 1, 0, 0, 1, 1, 1, 0, 0, 1, 0, 0, 0,\n",
              "       1, 1, 1, 0, 1, 1, 0, 0, 1, 1, 1, 0, 0, 1, 1, 1, 1, 0, 1, 1, 0, 1,\n",
              "       1, 1, 1, 1, 1, 1, 1, 0, 0, 0, 1, 0, 0, 1, 1, 1, 0, 0, 1, 0, 1, 0,\n",
              "       0, 1, 0, 0, 1, 1, 0, 1, 1, 0, 1, 1, 1, 1, 0, 1, 1, 1, 1, 1, 1, 1,\n",
              "       1, 1, 0, 1, 1, 1, 1, 0, 0, 1, 0, 1, 1, 0, 0, 1, 1, 0, 0, 1, 1, 1,\n",
              "       1, 0, 1, 1, 0, 0, 0, 1, 0, 1, 0, 1, 1, 1, 0, 1, 1, 0, 0, 1, 0, 0,\n",
              "       0, 0, 1, 0, 0, 0, 1, 0, 1, 0, 1, 1, 0, 1, 0, 0, 0, 0, 1, 1, 0, 0,\n",
              "       1, 1, 1, 0, 1, 1, 1, 1, 1, 0, 0, 1, 1, 0, 1, 1, 0, 0, 1, 0, 1, 1,\n",
              "       1, 1, 0, 1, 1, 1, 1, 1, 0, 1, 0, 0, 0, 0, 0, 0, 0, 0, 0, 0, 0, 0,\n",
              "       0, 0, 1, 1, 1, 1, 1, 1, 0, 1, 0, 1, 1, 0, 1, 1, 0, 1, 0, 0, 1, 1,\n",
              "       1, 1, 1, 1, 1, 1, 1, 1, 1, 1, 1, 0, 1, 1, 0, 1, 0, 1, 1, 1, 1, 1,\n",
              "       1, 1, 1, 1, 1, 1, 1, 1, 1, 0, 1, 1, 1, 0, 1, 0, 1, 1, 1, 1, 0, 0,\n",
              "       0, 1, 1, 1, 1, 0, 1, 0, 1, 0, 1, 1, 1, 0, 1, 1, 1, 1, 1, 1, 1, 0,\n",
              "       0, 0, 1, 1, 1, 1, 1, 1, 1, 1, 1, 1, 1, 0, 0, 1, 0, 0, 0, 1, 0, 0,\n",
              "       1, 1, 1, 1, 1, 0, 1, 1, 1, 1, 1, 0, 1, 1, 1, 0, 1, 1, 0, 0, 1, 1,\n",
              "       1, 1, 1, 1, 0, 1, 1, 1, 1, 1, 1, 1, 0, 1, 1, 1, 1, 1, 0, 1, 1, 0,\n",
              "       1, 1, 1, 1, 1, 1, 1, 1, 1, 1, 1, 1, 0, 1, 0, 0, 1, 0, 1, 1, 1, 1,\n",
              "       1, 0, 1, 1, 0, 1, 0, 1, 1, 0, 1, 0, 1, 1, 1, 1, 1, 1, 1, 1, 0, 0,\n",
              "       1, 1, 1, 1, 1, 1, 0, 1, 1, 1, 1, 1, 1, 1, 1, 1, 1, 0, 1, 1, 1, 1,\n",
              "       1, 1, 1, 0, 1, 0, 1, 1, 0, 1, 1, 1, 1, 1, 0, 0, 1, 0, 1, 0, 1, 1,\n",
              "       1, 1, 1, 0, 1, 1, 0, 1, 0, 1, 0, 0, 1, 1, 1, 0, 1, 1, 1, 1, 1, 1,\n",
              "       1, 1, 1, 1, 1, 0, 1, 0, 0, 1, 1, 1, 1, 1, 1, 1, 1, 1, 1, 1, 1, 1,\n",
              "       1, 1, 1, 1, 1, 1, 1, 1, 1, 1, 1, 1, 0, 0, 0, 0, 0, 0, 1])"
            ]
          },
          "metadata": {},
          "execution_count": 439
        }
      ]
    },
    {
      "cell_type": "code",
      "source": [
        "#Pegar as colunas que serão usadas na classificação\n",
        "features = df.columns\n",
        "\n",
        "# Número de folds da validação cruzada\n",
        "SPLITS = 5"
      ],
      "metadata": {
        "id": "1R6vdwi-_rKB"
      },
      "execution_count": null,
      "outputs": []
    },
    {
      "cell_type": "markdown",
      "source": [
        "Se tiver dúvidas sobre a validação cruzada, recomendo :https://towardsdatascience.com/what-is-stratified-cross-validation-in-machine-learning-8844f3e7ae8e . Para regressão, vocês usaram o kfold, agora recomendo a utilização do StratifiedKFold."
      ],
      "metadata": {
        "id": "wbYGm3DUNyGj"
      }
    },
    {
      "cell_type": "code",
      "source": [
        "df.head()"
      ],
      "metadata": {
        "colab": {
          "base_uri": "https://localhost:8080/",
          "height": 305
        },
        "id": "dUhTD_9heYQ5",
        "outputId": "525a7603-cee9-4dba-f3ff-1fcaf0bdbda3"
      },
      "execution_count": null,
      "outputs": [
        {
          "output_type": "execute_result",
          "data": {
            "text/html": [
              "\n",
              "  <div id=\"df-afbddc03-df57-4235-af34-f6dcbdbb9cf5\">\n",
              "    <div class=\"colab-df-container\">\n",
              "      <div>\n",
              "<style scoped>\n",
              "    .dataframe tbody tr th:only-of-type {\n",
              "        vertical-align: middle;\n",
              "    }\n",
              "\n",
              "    .dataframe tbody tr th {\n",
              "        vertical-align: top;\n",
              "    }\n",
              "\n",
              "    .dataframe thead tr th {\n",
              "        text-align: left;\n",
              "    }\n",
              "</style>\n",
              "<table border=\"1\" class=\"dataframe\">\n",
              "  <thead>\n",
              "    <tr>\n",
              "      <th></th>\n",
              "      <th>mean radius</th>\n",
              "      <th>mean texture</th>\n",
              "      <th>mean perimeter</th>\n",
              "      <th>mean area</th>\n",
              "      <th>mean smoothness</th>\n",
              "      <th>mean compactness</th>\n",
              "      <th>mean concavity</th>\n",
              "      <th>mean concave points</th>\n",
              "      <th>mean symmetry</th>\n",
              "      <th>mean fractal dimension</th>\n",
              "      <th>radius error</th>\n",
              "      <th>texture error</th>\n",
              "      <th>perimeter error</th>\n",
              "      <th>area error</th>\n",
              "      <th>smoothness error</th>\n",
              "      <th>compactness error</th>\n",
              "      <th>concavity error</th>\n",
              "      <th>concave points error</th>\n",
              "      <th>symmetry error</th>\n",
              "      <th>fractal dimension error</th>\n",
              "      <th>worst radius</th>\n",
              "      <th>worst texture</th>\n",
              "      <th>worst perimeter</th>\n",
              "      <th>worst area</th>\n",
              "      <th>worst smoothness</th>\n",
              "      <th>worst compactness</th>\n",
              "      <th>worst concavity</th>\n",
              "      <th>worst concave points</th>\n",
              "      <th>worst symmetry</th>\n",
              "      <th>worst fractal dimension</th>\n",
              "    </tr>\n",
              "  </thead>\n",
              "  <tbody>\n",
              "    <tr>\n",
              "      <th>0</th>\n",
              "      <td>17.99</td>\n",
              "      <td>10.38</td>\n",
              "      <td>122.80</td>\n",
              "      <td>1001.0</td>\n",
              "      <td>0.11840</td>\n",
              "      <td>0.27760</td>\n",
              "      <td>0.3001</td>\n",
              "      <td>0.14710</td>\n",
              "      <td>0.2419</td>\n",
              "      <td>0.07871</td>\n",
              "      <td>1.0950</td>\n",
              "      <td>0.9053</td>\n",
              "      <td>8.589</td>\n",
              "      <td>153.40</td>\n",
              "      <td>0.006399</td>\n",
              "      <td>0.04904</td>\n",
              "      <td>0.05373</td>\n",
              "      <td>0.01587</td>\n",
              "      <td>0.03003</td>\n",
              "      <td>0.006193</td>\n",
              "      <td>25.38</td>\n",
              "      <td>17.33</td>\n",
              "      <td>184.60</td>\n",
              "      <td>2019.0</td>\n",
              "      <td>0.1622</td>\n",
              "      <td>0.6656</td>\n",
              "      <td>0.7119</td>\n",
              "      <td>0.2654</td>\n",
              "      <td>0.4601</td>\n",
              "      <td>0.11890</td>\n",
              "    </tr>\n",
              "    <tr>\n",
              "      <th>1</th>\n",
              "      <td>20.57</td>\n",
              "      <td>17.77</td>\n",
              "      <td>132.90</td>\n",
              "      <td>1326.0</td>\n",
              "      <td>0.08474</td>\n",
              "      <td>0.07864</td>\n",
              "      <td>0.0869</td>\n",
              "      <td>0.07017</td>\n",
              "      <td>0.1812</td>\n",
              "      <td>0.05667</td>\n",
              "      <td>0.5435</td>\n",
              "      <td>0.7339</td>\n",
              "      <td>3.398</td>\n",
              "      <td>74.08</td>\n",
              "      <td>0.005225</td>\n",
              "      <td>0.01308</td>\n",
              "      <td>0.01860</td>\n",
              "      <td>0.01340</td>\n",
              "      <td>0.01389</td>\n",
              "      <td>0.003532</td>\n",
              "      <td>24.99</td>\n",
              "      <td>23.41</td>\n",
              "      <td>158.80</td>\n",
              "      <td>1956.0</td>\n",
              "      <td>0.1238</td>\n",
              "      <td>0.1866</td>\n",
              "      <td>0.2416</td>\n",
              "      <td>0.1860</td>\n",
              "      <td>0.2750</td>\n",
              "      <td>0.08902</td>\n",
              "    </tr>\n",
              "    <tr>\n",
              "      <th>2</th>\n",
              "      <td>19.69</td>\n",
              "      <td>21.25</td>\n",
              "      <td>130.00</td>\n",
              "      <td>1203.0</td>\n",
              "      <td>0.10960</td>\n",
              "      <td>0.15990</td>\n",
              "      <td>0.1974</td>\n",
              "      <td>0.12790</td>\n",
              "      <td>0.2069</td>\n",
              "      <td>0.05999</td>\n",
              "      <td>0.7456</td>\n",
              "      <td>0.7869</td>\n",
              "      <td>4.585</td>\n",
              "      <td>94.03</td>\n",
              "      <td>0.006150</td>\n",
              "      <td>0.04006</td>\n",
              "      <td>0.03832</td>\n",
              "      <td>0.02058</td>\n",
              "      <td>0.02250</td>\n",
              "      <td>0.004571</td>\n",
              "      <td>23.57</td>\n",
              "      <td>25.53</td>\n",
              "      <td>152.50</td>\n",
              "      <td>1709.0</td>\n",
              "      <td>0.1444</td>\n",
              "      <td>0.4245</td>\n",
              "      <td>0.4504</td>\n",
              "      <td>0.2430</td>\n",
              "      <td>0.3613</td>\n",
              "      <td>0.08758</td>\n",
              "    </tr>\n",
              "    <tr>\n",
              "      <th>3</th>\n",
              "      <td>11.42</td>\n",
              "      <td>20.38</td>\n",
              "      <td>77.58</td>\n",
              "      <td>386.1</td>\n",
              "      <td>0.14250</td>\n",
              "      <td>0.28390</td>\n",
              "      <td>0.2414</td>\n",
              "      <td>0.10520</td>\n",
              "      <td>0.2597</td>\n",
              "      <td>0.09744</td>\n",
              "      <td>0.4956</td>\n",
              "      <td>1.1560</td>\n",
              "      <td>3.445</td>\n",
              "      <td>27.23</td>\n",
              "      <td>0.009110</td>\n",
              "      <td>0.07458</td>\n",
              "      <td>0.05661</td>\n",
              "      <td>0.01867</td>\n",
              "      <td>0.05963</td>\n",
              "      <td>0.009208</td>\n",
              "      <td>14.91</td>\n",
              "      <td>26.50</td>\n",
              "      <td>98.87</td>\n",
              "      <td>567.7</td>\n",
              "      <td>0.2098</td>\n",
              "      <td>0.8663</td>\n",
              "      <td>0.6869</td>\n",
              "      <td>0.2575</td>\n",
              "      <td>0.6638</td>\n",
              "      <td>0.17300</td>\n",
              "    </tr>\n",
              "    <tr>\n",
              "      <th>4</th>\n",
              "      <td>20.29</td>\n",
              "      <td>14.34</td>\n",
              "      <td>135.10</td>\n",
              "      <td>1297.0</td>\n",
              "      <td>0.10030</td>\n",
              "      <td>0.13280</td>\n",
              "      <td>0.1980</td>\n",
              "      <td>0.10430</td>\n",
              "      <td>0.1809</td>\n",
              "      <td>0.05883</td>\n",
              "      <td>0.7572</td>\n",
              "      <td>0.7813</td>\n",
              "      <td>5.438</td>\n",
              "      <td>94.44</td>\n",
              "      <td>0.011490</td>\n",
              "      <td>0.02461</td>\n",
              "      <td>0.05688</td>\n",
              "      <td>0.01885</td>\n",
              "      <td>0.01756</td>\n",
              "      <td>0.005115</td>\n",
              "      <td>22.54</td>\n",
              "      <td>16.67</td>\n",
              "      <td>152.20</td>\n",
              "      <td>1575.0</td>\n",
              "      <td>0.1374</td>\n",
              "      <td>0.2050</td>\n",
              "      <td>0.4000</td>\n",
              "      <td>0.1625</td>\n",
              "      <td>0.2364</td>\n",
              "      <td>0.07678</td>\n",
              "    </tr>\n",
              "  </tbody>\n",
              "</table>\n",
              "</div>\n",
              "      <button class=\"colab-df-convert\" onclick=\"convertToInteractive('df-afbddc03-df57-4235-af34-f6dcbdbb9cf5')\"\n",
              "              title=\"Convert this dataframe to an interactive table.\"\n",
              "              style=\"display:none;\">\n",
              "        \n",
              "  <svg xmlns=\"http://www.w3.org/2000/svg\" height=\"24px\"viewBox=\"0 0 24 24\"\n",
              "       width=\"24px\">\n",
              "    <path d=\"M0 0h24v24H0V0z\" fill=\"none\"/>\n",
              "    <path d=\"M18.56 5.44l.94 2.06.94-2.06 2.06-.94-2.06-.94-.94-2.06-.94 2.06-2.06.94zm-11 1L8.5 8.5l.94-2.06 2.06-.94-2.06-.94L8.5 2.5l-.94 2.06-2.06.94zm10 10l.94 2.06.94-2.06 2.06-.94-2.06-.94-.94-2.06-.94 2.06-2.06.94z\"/><path d=\"M17.41 7.96l-1.37-1.37c-.4-.4-.92-.59-1.43-.59-.52 0-1.04.2-1.43.59L10.3 9.45l-7.72 7.72c-.78.78-.78 2.05 0 2.83L4 21.41c.39.39.9.59 1.41.59.51 0 1.02-.2 1.41-.59l7.78-7.78 2.81-2.81c.8-.78.8-2.07 0-2.86zM5.41 20L4 18.59l7.72-7.72 1.47 1.35L5.41 20z\"/>\n",
              "  </svg>\n",
              "      </button>\n",
              "      \n",
              "  <style>\n",
              "    .colab-df-container {\n",
              "      display:flex;\n",
              "      flex-wrap:wrap;\n",
              "      gap: 12px;\n",
              "    }\n",
              "\n",
              "    .colab-df-convert {\n",
              "      background-color: #E8F0FE;\n",
              "      border: none;\n",
              "      border-radius: 50%;\n",
              "      cursor: pointer;\n",
              "      display: none;\n",
              "      fill: #1967D2;\n",
              "      height: 32px;\n",
              "      padding: 0 0 0 0;\n",
              "      width: 32px;\n",
              "    }\n",
              "\n",
              "    .colab-df-convert:hover {\n",
              "      background-color: #E2EBFA;\n",
              "      box-shadow: 0px 1px 2px rgba(60, 64, 67, 0.3), 0px 1px 3px 1px rgba(60, 64, 67, 0.15);\n",
              "      fill: #174EA6;\n",
              "    }\n",
              "\n",
              "    [theme=dark] .colab-df-convert {\n",
              "      background-color: #3B4455;\n",
              "      fill: #D2E3FC;\n",
              "    }\n",
              "\n",
              "    [theme=dark] .colab-df-convert:hover {\n",
              "      background-color: #434B5C;\n",
              "      box-shadow: 0px 1px 3px 1px rgba(0, 0, 0, 0.15);\n",
              "      filter: drop-shadow(0px 1px 2px rgba(0, 0, 0, 0.3));\n",
              "      fill: #FFFFFF;\n",
              "    }\n",
              "  </style>\n",
              "\n",
              "      <script>\n",
              "        const buttonEl =\n",
              "          document.querySelector('#df-afbddc03-df57-4235-af34-f6dcbdbb9cf5 button.colab-df-convert');\n",
              "        buttonEl.style.display =\n",
              "          google.colab.kernel.accessAllowed ? 'block' : 'none';\n",
              "\n",
              "        async function convertToInteractive(key) {\n",
              "          const element = document.querySelector('#df-afbddc03-df57-4235-af34-f6dcbdbb9cf5');\n",
              "          const dataTable =\n",
              "            await google.colab.kernel.invokeFunction('convertToInteractive',\n",
              "                                                     [key], {});\n",
              "          if (!dataTable) return;\n",
              "\n",
              "          const docLinkHtml = 'Like what you see? Visit the ' +\n",
              "            '<a target=\"_blank\" href=https://colab.research.google.com/notebooks/data_table.ipynb>data table notebook</a>'\n",
              "            + ' to learn more about interactive tables.';\n",
              "          element.innerHTML = '';\n",
              "          dataTable['output_type'] = 'display_data';\n",
              "          await google.colab.output.renderOutput(dataTable, element);\n",
              "          const docLink = document.createElement('div');\n",
              "          docLink.innerHTML = docLinkHtml;\n",
              "          element.appendChild(docLink);\n",
              "        }\n",
              "      </script>\n",
              "    </div>\n",
              "  </div>\n",
              "  "
            ],
            "text/plain": [
              "  mean radius mean texture  ... worst symmetry worst fractal dimension\n",
              "0       17.99        10.38  ...         0.4601                 0.11890\n",
              "1       20.57        17.77  ...         0.2750                 0.08902\n",
              "2       19.69        21.25  ...         0.3613                 0.08758\n",
              "3       11.42        20.38  ...         0.6638                 0.17300\n",
              "4       20.29        14.34  ...         0.2364                 0.07678\n",
              "\n",
              "[5 rows x 30 columns]"
            ]
          },
          "metadata": {},
          "execution_count": 441
        }
      ]
    },
    {
      "cell_type": "markdown",
      "metadata": {
        "deletable": false,
        "editable": false,
        "nbgrader": {
          "checksum": "c77a6c3fedbe648e6e209ba6323f711e",
          "grade": false,
          "grade_id": "cell-acd6c643a4ce1477",
          "locked": true,
          "schema_version": 1,
          "solution": false
        },
        "id": "cV0uYQxcm64E"
      },
      "source": [
        "# Exercício 01:\n",
        "\n",
        "Use o RandomForest para classificar as pacientes com e sem câncer.\n",
        "\n",
        "Para a questão, faça as seguintes tarefas:\n",
        "* Varie a o número de árvores (n_estimators) e a profundidade máxima da árvore (n_estimators). Faça pelo menos 4 configurações.\n",
        "* Realize validação cruzada, com k-fold igual a 5\n",
        "* Reporte a precisão, revocação, F1 e a matriz de confusão para cada configuração\n"
      ]
    },
    {
      "cell_type": "code",
      "source": [
        "from sklearn.metrics import accuracy_score, recall_score, precision_score, f1_score"
      ],
      "metadata": {
        "id": "XlGueKW6ATe8"
      },
      "execution_count": null,
      "outputs": []
    },
    {
      "cell_type": "code",
      "source": [
        "from sklearn.model_selection import train_test_split"
      ],
      "metadata": {
        "id": "IXuBFpEZA4-_"
      },
      "execution_count": null,
      "outputs": []
    },
    {
      "cell_type": "code",
      "source": [
        "from sklearn.ensemble import StackingClassifier"
      ],
      "metadata": {
        "id": "_-gP1j_bBGdh"
      },
      "execution_count": null,
      "outputs": []
    },
    {
      "cell_type": "code",
      "source": [
        "from sklearn.linear_model import LogisticRegression"
      ],
      "metadata": {
        "id": "DAD8jDYEBO64"
      },
      "execution_count": null,
      "outputs": []
    },
    {
      "cell_type": "code",
      "source": [
        "from sklearn.metrics import confusion_matrix"
      ],
      "metadata": {
        "id": "dGSfXA3bNrDn"
      },
      "execution_count": null,
      "outputs": []
    },
    {
      "cell_type": "code",
      "execution_count": null,
      "metadata": {
        "deletable": false,
        "nbgrader": {
          "checksum": "c4c170d5f5a66e6cffe2a8da92fb9285",
          "grade": true,
          "grade_id": "cell-1b46a0ab690a7b8c",
          "locked": false,
          "points": 4,
          "schema_version": 1,
          "solution": true
        },
        "id": "4_gbUGwMm64F"
      },
      "outputs": [],
      "source": [
        "# YOUR CODE HERE\n",
        "X = pd.DataFrame(cancer['data'], columns = cancer['feature_names'])\n",
        "y = cancer['target']\n",
        "X_train, X_test, y_train, y_test = train_test_split(X, y)"
      ]
    },
    {
      "cell_type": "code",
      "source": [
        "estimators = [('knn', KNeighborsClassifier(n_neighbors = 10)),\n",
        "              ('rf', RandomForestClassifier(n_estimators = 50))]\n",
        "stack = StackingClassifier(estimators = estimators,\n",
        "                           final_estimator = LogisticRegression(),\n",
        "                           cv = 5)"
      ],
      "metadata": {
        "id": "22FaGpq-BJ8h"
      },
      "execution_count": null,
      "outputs": []
    },
    {
      "cell_type": "code",
      "source": [
        "stack.fit(X_train, y_train)"
      ],
      "metadata": {
        "id": "9GtwGB9mBa5o",
        "colab": {
          "base_uri": "https://localhost:8080/"
        },
        "outputId": "71b8f7ea-481b-4ab9-b6bc-0d2ed6a50009"
      },
      "execution_count": null,
      "outputs": [
        {
          "output_type": "execute_result",
          "data": {
            "text/plain": [
              "StackingClassifier(cv=5,\n",
              "                   estimators=[('knn', KNeighborsClassifier(n_neighbors=10)),\n",
              "                               ('rf', RandomForestClassifier(n_estimators=50))],\n",
              "                   final_estimator=LogisticRegression())"
            ]
          },
          "metadata": {},
          "execution_count": 449
        }
      ]
    },
    {
      "cell_type": "code",
      "source": [
        "knn = stack.estimators_[0]\n",
        "rf = stack.estimators_[1]"
      ],
      "metadata": {
        "id": "5KABZ5M9Ba3V"
      },
      "execution_count": null,
      "outputs": []
    },
    {
      "cell_type": "code",
      "source": [
        "print('rf: ' + str(rf.score(X_train, y_train)))\n"
      ],
      "metadata": {
        "colab": {
          "base_uri": "https://localhost:8080/"
        },
        "id": "5xghzcZUBhJD",
        "outputId": "4f325326-383a-4ea2-da8c-4d4f5a270c91"
      },
      "execution_count": null,
      "outputs": [
        {
          "output_type": "stream",
          "name": "stdout",
          "text": [
            "rf: 1.0\n"
          ]
        }
      ]
    },
    {
      "cell_type": "code",
      "source": [
        "y_rf_pred = rf.predict(X_test)\n",
        "\n",
        "for i, j in zip([y_rf_pred],\n",
        "                ['rf']):\n",
        "    print(j)\n",
        "    print('accuracy_score: ' + str(accuracy_score(y_test, i)))\n",
        "    print('precision_score: ' + str(precision_score(y_test, i)))\n",
        "    print('recall_score: ' + str(recall_score(y_test, i)))\n",
        "    print('f1_score: ' + str(f1_score(y_test, i)))\n",
        "    print()"
      ],
      "metadata": {
        "colab": {
          "base_uri": "https://localhost:8080/"
        },
        "id": "l-5iQDPAB5ic",
        "outputId": "df4f03e8-9035-41f7-942a-1572e61e7e5b"
      },
      "execution_count": null,
      "outputs": [
        {
          "output_type": "stream",
          "name": "stdout",
          "text": [
            "rf\n",
            "accuracy_score: 0.965034965034965\n",
            "precision_score: 0.967032967032967\n",
            "recall_score: 0.9777777777777777\n",
            "f1_score: 0.9723756906077348\n",
            "\n"
          ]
        }
      ]
    },
    {
      "cell_type": "code",
      "source": [
        "confusao = confusion_matrix(y_test, i)\n",
        "confusao"
      ],
      "metadata": {
        "colab": {
          "base_uri": "https://localhost:8080/"
        },
        "id": "a0cArbTnOG__",
        "outputId": "c71b9256-4258-4654-bf8f-8373871b2159"
      },
      "execution_count": null,
      "outputs": [
        {
          "output_type": "execute_result",
          "data": {
            "text/plain": [
              "array([[50,  3],\n",
              "       [ 2, 88]])"
            ]
          },
          "metadata": {},
          "execution_count": 453
        }
      ]
    },
    {
      "cell_type": "code",
      "source": [
        "################################################################################################"
      ],
      "metadata": {
        "id": "Ci-XV_meHwGA"
      },
      "execution_count": null,
      "outputs": []
    },
    {
      "cell_type": "code",
      "source": [
        "estimators = [('knn', KNeighborsClassifier(n_neighbors = 10)),\n",
        "              ('rf', RandomForestClassifier(n_estimators = 100))]\n",
        "stack = StackingClassifier(estimators = estimators,\n",
        "                           final_estimator = LogisticRegression(),\n",
        "                           cv = 5)"
      ],
      "metadata": {
        "id": "aw2IU0imHwfL"
      },
      "execution_count": null,
      "outputs": []
    },
    {
      "cell_type": "code",
      "source": [
        "stack.fit(X_train, y_train)"
      ],
      "metadata": {
        "colab": {
          "base_uri": "https://localhost:8080/"
        },
        "outputId": "0c3c8763-a998-4e30-939c-840b9506ffa9",
        "id": "4QU-qhLLHwfM"
      },
      "execution_count": null,
      "outputs": [
        {
          "output_type": "execute_result",
          "data": {
            "text/plain": [
              "StackingClassifier(cv=5,\n",
              "                   estimators=[('knn', KNeighborsClassifier(n_neighbors=10)),\n",
              "                               ('rf', RandomForestClassifier())],\n",
              "                   final_estimator=LogisticRegression())"
            ]
          },
          "metadata": {},
          "execution_count": 456
        }
      ]
    },
    {
      "cell_type": "code",
      "source": [
        "knn = stack.estimators_[0]\n",
        "rf = stack.estimators_[1]"
      ],
      "metadata": {
        "id": "041d_G2WHwfN"
      },
      "execution_count": null,
      "outputs": []
    },
    {
      "cell_type": "code",
      "source": [
        "print('rf: ' + str(rf.score(X_train, y_train)))\n"
      ],
      "metadata": {
        "colab": {
          "base_uri": "https://localhost:8080/"
        },
        "outputId": "85169733-0102-4cf1-dbe1-c54d1d9fa940",
        "id": "vmz5Tt25HwfO"
      },
      "execution_count": null,
      "outputs": [
        {
          "output_type": "stream",
          "name": "stdout",
          "text": [
            "rf: 1.0\n"
          ]
        }
      ]
    },
    {
      "cell_type": "code",
      "source": [
        "y_rf_pred = rf.predict(X_test)\n",
        "\n",
        "for i, j in zip([y_rf_pred],\n",
        "                ['rf']):\n",
        "    print(j)\n",
        "    print('accuracy_score: ' + str(accuracy_score(y_test, i)))\n",
        "    print('precision_score: ' + str(precision_score(y_test, i)))\n",
        "    print('recall_score: ' + str(recall_score(y_test, i)))\n",
        "    print('f1_score: ' + str(f1_score(y_test, i)))\n",
        "    print()"
      ],
      "metadata": {
        "colab": {
          "base_uri": "https://localhost:8080/"
        },
        "outputId": "5758c5a3-a8a9-43a9-9575-42790bdd95e9",
        "id": "yotKSYNlHwfO"
      },
      "execution_count": null,
      "outputs": [
        {
          "output_type": "stream",
          "name": "stdout",
          "text": [
            "rf\n",
            "accuracy_score: 0.958041958041958\n",
            "precision_score: 0.9565217391304348\n",
            "recall_score: 0.9777777777777777\n",
            "f1_score: 0.967032967032967\n",
            "\n"
          ]
        }
      ]
    },
    {
      "cell_type": "code",
      "source": [
        "confusao = confusion_matrix(y_test, i)\n",
        "confusao"
      ],
      "metadata": {
        "colab": {
          "base_uri": "https://localhost:8080/"
        },
        "id": "WfrDqlkbOEy0",
        "outputId": "d62f2a1b-d567-45fc-97c7-6ad665fa20de"
      },
      "execution_count": null,
      "outputs": [
        {
          "output_type": "execute_result",
          "data": {
            "text/plain": [
              "array([[49,  4],\n",
              "       [ 2, 88]])"
            ]
          },
          "metadata": {},
          "execution_count": 460
        }
      ]
    },
    {
      "cell_type": "code",
      "source": [
        "###################################################################################"
      ],
      "metadata": {
        "id": "96RnMwZUIIak"
      },
      "execution_count": null,
      "outputs": []
    },
    {
      "cell_type": "code",
      "source": [
        "estimators = [('knn', KNeighborsClassifier(n_neighbors = 10)),\n",
        "              ('rf', RandomForestClassifier(n_estimators = 150))]\n",
        "stack = StackingClassifier(estimators = estimators,\n",
        "                           final_estimator = LogisticRegression(),\n",
        "                           cv = 5)"
      ],
      "metadata": {
        "id": "Qt4SKSEyIKJI"
      },
      "execution_count": null,
      "outputs": []
    },
    {
      "cell_type": "code",
      "source": [
        "stack.fit(X_train, y_train)"
      ],
      "metadata": {
        "colab": {
          "base_uri": "https://localhost:8080/"
        },
        "outputId": "d89407db-6de5-4873-ebf0-e65433b6e6aa",
        "id": "pZoPR5WVIKJI"
      },
      "execution_count": null,
      "outputs": [
        {
          "output_type": "execute_result",
          "data": {
            "text/plain": [
              "StackingClassifier(cv=5,\n",
              "                   estimators=[('knn', KNeighborsClassifier(n_neighbors=10)),\n",
              "                               ('rf',\n",
              "                                RandomForestClassifier(n_estimators=150))],\n",
              "                   final_estimator=LogisticRegression())"
            ]
          },
          "metadata": {},
          "execution_count": 463
        }
      ]
    },
    {
      "cell_type": "code",
      "source": [
        "knn = stack.estimators_[0]\n",
        "rf = stack.estimators_[1]"
      ],
      "metadata": {
        "id": "FBfhAzdtIKJJ"
      },
      "execution_count": null,
      "outputs": []
    },
    {
      "cell_type": "code",
      "source": [
        "print('rf: ' + str(rf.score(X_train, y_train)))\n"
      ],
      "metadata": {
        "colab": {
          "base_uri": "https://localhost:8080/"
        },
        "outputId": "ba99f8b2-5249-4ba8-803e-ee09ff2e26f0",
        "id": "yyGW5ll1IKJJ"
      },
      "execution_count": null,
      "outputs": [
        {
          "output_type": "stream",
          "name": "stdout",
          "text": [
            "rf: 1.0\n"
          ]
        }
      ]
    },
    {
      "cell_type": "code",
      "source": [
        "y_rf_pred = rf.predict(X_test)\n",
        "\n",
        "for i, j in zip([y_rf_pred],\n",
        "                ['rf']):\n",
        "    print(j)\n",
        "    print('accuracy_score: ' + str(accuracy_score(y_test, i)))\n",
        "    print('precision_score: ' + str(precision_score(y_test, i)))\n",
        "    print('recall_score: ' + str(recall_score(y_test, i)))\n",
        "    print('f1_score: ' + str(f1_score(y_test, i)))\n",
        "    print()"
      ],
      "metadata": {
        "colab": {
          "base_uri": "https://localhost:8080/"
        },
        "outputId": "251fdd9e-2862-4296-d385-33ae45a34e12",
        "id": "e3nuHcCYIKJK"
      },
      "execution_count": null,
      "outputs": [
        {
          "output_type": "stream",
          "name": "stdout",
          "text": [
            "rf\n",
            "accuracy_score: 0.958041958041958\n",
            "precision_score: 0.9565217391304348\n",
            "recall_score: 0.9777777777777777\n",
            "f1_score: 0.967032967032967\n",
            "\n"
          ]
        }
      ]
    },
    {
      "cell_type": "code",
      "source": [
        "confusao = confusion_matrix(y_test, i)\n",
        "confusao"
      ],
      "metadata": {
        "colab": {
          "base_uri": "https://localhost:8080/"
        },
        "id": "sDIOa9pnN9Wx",
        "outputId": "f10718d5-bcea-458e-e43c-bdc801cddcf5"
      },
      "execution_count": null,
      "outputs": [
        {
          "output_type": "execute_result",
          "data": {
            "text/plain": [
              "array([[49,  4],\n",
              "       [ 2, 88]])"
            ]
          },
          "metadata": {},
          "execution_count": 467
        }
      ]
    },
    {
      "cell_type": "code",
      "source": [
        "##################################################################################"
      ],
      "metadata": {
        "id": "Qh13KIkiIOeg"
      },
      "execution_count": null,
      "outputs": []
    },
    {
      "cell_type": "code",
      "source": [
        "estimators = [('knn', KNeighborsClassifier(n_neighbors = 10)),\n",
        "              ('rf', RandomForestClassifier(n_estimators = 200))]\n",
        "stack = StackingClassifier(estimators = estimators,\n",
        "                           final_estimator = LogisticRegression(),\n",
        "                           cv = 5)"
      ],
      "metadata": {
        "id": "EFXBUjU4IQDu"
      },
      "execution_count": null,
      "outputs": []
    },
    {
      "cell_type": "code",
      "source": [
        "stack.fit(X_train, y_train)"
      ],
      "metadata": {
        "colab": {
          "base_uri": "https://localhost:8080/"
        },
        "outputId": "95920899-1fe4-4302-a2c3-83d14696b729",
        "id": "uGEM7IMcIQDu"
      },
      "execution_count": null,
      "outputs": [
        {
          "output_type": "execute_result",
          "data": {
            "text/plain": [
              "StackingClassifier(cv=5,\n",
              "                   estimators=[('knn', KNeighborsClassifier(n_neighbors=10)),\n",
              "                               ('rf',\n",
              "                                RandomForestClassifier(n_estimators=200))],\n",
              "                   final_estimator=LogisticRegression())"
            ]
          },
          "metadata": {},
          "execution_count": 470
        }
      ]
    },
    {
      "cell_type": "code",
      "source": [
        "knn = stack.estimators_[0]\n",
        "rf = stack.estimators_[1]"
      ],
      "metadata": {
        "id": "hhX7YvhjIQDv"
      },
      "execution_count": null,
      "outputs": []
    },
    {
      "cell_type": "code",
      "source": [
        "print('rf: ' + str(rf.score(X_train, y_train)))\n"
      ],
      "metadata": {
        "colab": {
          "base_uri": "https://localhost:8080/"
        },
        "outputId": "2c5e94de-8717-4ee2-8a15-082c551d1443",
        "id": "lsS2gVSqIQDv"
      },
      "execution_count": null,
      "outputs": [
        {
          "output_type": "stream",
          "name": "stdout",
          "text": [
            "rf: 1.0\n"
          ]
        }
      ]
    },
    {
      "cell_type": "code",
      "source": [
        "y_rf_pred = rf.predict(X_test)\n",
        "\n",
        "for i, j in zip([y_rf_pred],\n",
        "                ['rf']):\n",
        "    print(j)\n",
        "    print('accuracy_score: ' + str(accuracy_score(y_test, i)))\n",
        "    print('precision_score: ' + str(precision_score(y_test, i)))\n",
        "    print('recall_score: ' + str(recall_score(y_test, i)))\n",
        "    print('f1_score: ' + str(f1_score(y_test, i)))\n",
        "    print()"
      ],
      "metadata": {
        "colab": {
          "base_uri": "https://localhost:8080/"
        },
        "outputId": "db415f82-34d7-4050-87fc-a9494189f793",
        "id": "oC73pWmhIQDv"
      },
      "execution_count": null,
      "outputs": [
        {
          "output_type": "stream",
          "name": "stdout",
          "text": [
            "rf\n",
            "accuracy_score: 0.958041958041958\n",
            "precision_score: 0.9565217391304348\n",
            "recall_score: 0.9777777777777777\n",
            "f1_score: 0.967032967032967\n",
            "\n"
          ]
        }
      ]
    },
    {
      "cell_type": "code",
      "source": [
        "confusao = confusion_matrix(y_test, i)\n",
        "confusao"
      ],
      "metadata": {
        "colab": {
          "base_uri": "https://localhost:8080/"
        },
        "id": "yiT6G4sYMrtb",
        "outputId": "b38d7022-6f0f-43a7-edf7-7ddaa0ead89b"
      },
      "execution_count": null,
      "outputs": [
        {
          "output_type": "execute_result",
          "data": {
            "text/plain": [
              "array([[49,  4],\n",
              "       [ 2, 88]])"
            ]
          },
          "metadata": {},
          "execution_count": 474
        }
      ]
    },
    {
      "cell_type": "markdown",
      "metadata": {
        "deletable": false,
        "editable": false,
        "nbgrader": {
          "checksum": "c5c0a788bafbd1227adf600b857ee636",
          "grade": false,
          "grade_id": "cell-b8fab7f24e1b2a35",
          "locked": true,
          "schema_version": 1,
          "solution": false
        },
        "id": "27nDGLBAm64H"
      },
      "source": [
        "# Exercício 02:\n",
        "\n",
        "Use a knn para classificar as pacientes com e sem câncer.\n",
        "\n",
        "Para a questão, faça as seguintes tarefas:\n",
        "\n",
        "* Escolha e reporte resultados com 3 números de vizinhos diferentes (k)\n",
        "* Realize validação cruzada, com k-fold igual a 5 (para cada um dos k vizinhos)\n",
        "* Reporte a precisão, revocação, F1 e a matriz de confusão para cada configuração\n"
      ]
    },
    {
      "cell_type": "code",
      "source": [
        "estimators = [('knn', KNeighborsClassifier(n_neighbors = 10)),\n",
        "              ('rf', RandomForestClassifier(n_estimators = 200))]\n",
        "stack = StackingClassifier(estimators = estimators,\n",
        "                           final_estimator = LogisticRegression(),\n",
        "                           cv = 5)"
      ],
      "metadata": {
        "id": "90CR1fMLQBA4"
      },
      "execution_count": null,
      "outputs": []
    },
    {
      "cell_type": "code",
      "source": [
        "stack.fit(X_train, y_train)"
      ],
      "metadata": {
        "colab": {
          "base_uri": "https://localhost:8080/"
        },
        "outputId": "bcf9da3b-48d0-42cd-8144-29933ef8edaf",
        "id": "iflSbbb6QBA5"
      },
      "execution_count": null,
      "outputs": [
        {
          "output_type": "execute_result",
          "data": {
            "text/plain": [
              "StackingClassifier(cv=5,\n",
              "                   estimators=[('knn', KNeighborsClassifier(n_neighbors=10)),\n",
              "                               ('rf',\n",
              "                                RandomForestClassifier(n_estimators=200))],\n",
              "                   final_estimator=LogisticRegression())"
            ]
          },
          "metadata": {},
          "execution_count": 476
        }
      ]
    },
    {
      "cell_type": "code",
      "source": [
        "knn = stack.estimators_[0]\n",
        "rf = stack.estimators_[1]"
      ],
      "metadata": {
        "id": "A3LfqeR9QBA6"
      },
      "execution_count": null,
      "outputs": []
    },
    {
      "cell_type": "code",
      "source": [
        "print('knn: ' + str(knn.score(X_train, y_train)))\n"
      ],
      "metadata": {
        "colab": {
          "base_uri": "https://localhost:8080/"
        },
        "outputId": "ac930f6a-1b78-4cd7-9495-eb62d0f766d8",
        "id": "gDnn6IbuQBA6"
      },
      "execution_count": null,
      "outputs": [
        {
          "output_type": "stream",
          "name": "stdout",
          "text": [
            "knn: 0.9413145539906104\n"
          ]
        }
      ]
    },
    {
      "cell_type": "code",
      "source": [
        "y_knn_pred = knn.predict(X_test)\n",
        "\n",
        "for i, j in zip([y_knn_pred],\n",
        "                ['knn']):\n",
        "    print(j)\n",
        "    print('accuracy_score: ' + str(accuracy_score(y_test, i)))\n",
        "    print('precision_score: ' + str(precision_score(y_test, i)))\n",
        "    print('recall_score: ' + str(recall_score(y_test, i)))\n",
        "    print('f1_score: ' + str(f1_score(y_test, i)))\n",
        "    print()"
      ],
      "metadata": {
        "colab": {
          "base_uri": "https://localhost:8080/"
        },
        "outputId": "07e15797-5837-415e-cbdc-d14bb86c10d6",
        "id": "BAN9Ee-LQBA6"
      },
      "execution_count": null,
      "outputs": [
        {
          "output_type": "stream",
          "name": "stdout",
          "text": [
            "knn\n",
            "accuracy_score: 0.9300699300699301\n",
            "precision_score: 0.925531914893617\n",
            "recall_score: 0.9666666666666667\n",
            "f1_score: 0.9456521739130436\n",
            "\n"
          ]
        }
      ]
    },
    {
      "cell_type": "code",
      "source": [
        "confusao = confusion_matrix(y_test, i)\n",
        "confusao"
      ],
      "metadata": {
        "colab": {
          "base_uri": "https://localhost:8080/"
        },
        "outputId": "bfc408ed-ca1b-4635-b6b7-e0a51acbb4a3",
        "id": "HavJy-HIQBA7"
      },
      "execution_count": null,
      "outputs": [
        {
          "output_type": "execute_result",
          "data": {
            "text/plain": [
              "array([[46,  7],\n",
              "       [ 3, 87]])"
            ]
          },
          "metadata": {},
          "execution_count": 480
        }
      ]
    },
    {
      "cell_type": "code",
      "source": [
        "#########################################################################################################33"
      ],
      "metadata": {
        "id": "jwiaaMwPRFUr"
      },
      "execution_count": null,
      "outputs": []
    },
    {
      "cell_type": "code",
      "source": [
        "estimators = [('knn', KNeighborsClassifier(n_neighbors = 100)),\n",
        "              ('rf', RandomForestClassifier(n_estimators = 200))]\n",
        "stack = StackingClassifier(estimators = estimators,\n",
        "                           final_estimator = LogisticRegression(),\n",
        "                           cv = 5)"
      ],
      "metadata": {
        "id": "0PJqDM-sRHsl"
      },
      "execution_count": null,
      "outputs": []
    },
    {
      "cell_type": "code",
      "source": [
        "stack.fit(X_train, y_train)"
      ],
      "metadata": {
        "colab": {
          "base_uri": "https://localhost:8080/"
        },
        "outputId": "4185693c-4514-4917-e714-61ca046d3608",
        "id": "Q1r4g3bkRHsm"
      },
      "execution_count": null,
      "outputs": [
        {
          "output_type": "execute_result",
          "data": {
            "text/plain": [
              "StackingClassifier(cv=5,\n",
              "                   estimators=[('knn', KNeighborsClassifier(n_neighbors=100)),\n",
              "                               ('rf',\n",
              "                                RandomForestClassifier(n_estimators=200))],\n",
              "                   final_estimator=LogisticRegression())"
            ]
          },
          "metadata": {},
          "execution_count": 483
        }
      ]
    },
    {
      "cell_type": "code",
      "source": [
        "knn = stack.estimators_[0]\n",
        "rf = stack.estimators_[1]"
      ],
      "metadata": {
        "id": "IFInP02vRHsn"
      },
      "execution_count": null,
      "outputs": []
    },
    {
      "cell_type": "code",
      "source": [
        "print('knn: ' + str(knn.score(X_train, y_train)))\n"
      ],
      "metadata": {
        "colab": {
          "base_uri": "https://localhost:8080/"
        },
        "outputId": "b59f7c5b-0c3f-408b-b7a5-9f20c10253a6",
        "id": "4jL9hA85RHsn"
      },
      "execution_count": null,
      "outputs": [
        {
          "output_type": "stream",
          "name": "stdout",
          "text": [
            "knn: 0.9061032863849765\n"
          ]
        }
      ]
    },
    {
      "cell_type": "code",
      "source": [
        "y_knn_pred = knn.predict(X_test)\n",
        "\n",
        "for i, j in zip([y_knn_pred],\n",
        "                ['knn']):\n",
        "    print(j)\n",
        "    print('accuracy_score: ' + str(accuracy_score(y_test, i)))\n",
        "    print('precision_score: ' + str(precision_score(y_test, i)))\n",
        "    print('recall_score: ' + str(recall_score(y_test, i)))\n",
        "    print('f1_score: ' + str(f1_score(y_test, i)))\n",
        "    print()"
      ],
      "metadata": {
        "colab": {
          "base_uri": "https://localhost:8080/"
        },
        "outputId": "6d7ae8c9-4f70-49c0-cc86-ecc3484f66a6",
        "id": "06iVfoEGRHso"
      },
      "execution_count": null,
      "outputs": [
        {
          "output_type": "stream",
          "name": "stdout",
          "text": [
            "knn\n",
            "accuracy_score: 0.8811188811188811\n",
            "precision_score: 0.8613861386138614\n",
            "recall_score: 0.9666666666666667\n",
            "f1_score: 0.9109947643979057\n",
            "\n"
          ]
        }
      ]
    },
    {
      "cell_type": "code",
      "source": [
        "confusao = confusion_matrix(y_test, i)\n",
        "confusao"
      ],
      "metadata": {
        "colab": {
          "base_uri": "https://localhost:8080/"
        },
        "outputId": "803d1846-d664-451b-f3b8-3f55c34021ff",
        "id": "K1zTSwdMRHso"
      },
      "execution_count": null,
      "outputs": [
        {
          "output_type": "execute_result",
          "data": {
            "text/plain": [
              "array([[39, 14],\n",
              "       [ 3, 87]])"
            ]
          },
          "metadata": {},
          "execution_count": 487
        }
      ]
    },
    {
      "cell_type": "code",
      "source": [
        "###########################################################################################################################"
      ],
      "metadata": {
        "id": "ozV2BlfxRTui"
      },
      "execution_count": null,
      "outputs": []
    },
    {
      "cell_type": "code",
      "source": [
        "estimators = [('knn', KNeighborsClassifier(n_neighbors = 50)),\n",
        "              ('rf', RandomForestClassifier(n_estimators = 200))]\n",
        "stack = StackingClassifier(estimators = estimators,\n",
        "                           final_estimator = LogisticRegression(),\n",
        "                           cv = 5)"
      ],
      "metadata": {
        "id": "DchveHjjRWRB"
      },
      "execution_count": null,
      "outputs": []
    },
    {
      "cell_type": "code",
      "source": [
        "stack.fit(X_train, y_train)"
      ],
      "metadata": {
        "colab": {
          "base_uri": "https://localhost:8080/"
        },
        "outputId": "ff1e1b8b-9000-4f3d-8b46-d0bbe26da9bf",
        "id": "rpk--0pjRWRC"
      },
      "execution_count": null,
      "outputs": [
        {
          "output_type": "execute_result",
          "data": {
            "text/plain": [
              "StackingClassifier(cv=5,\n",
              "                   estimators=[('knn', KNeighborsClassifier(n_neighbors=50)),\n",
              "                               ('rf',\n",
              "                                RandomForestClassifier(n_estimators=200))],\n",
              "                   final_estimator=LogisticRegression())"
            ]
          },
          "metadata": {},
          "execution_count": 490
        }
      ]
    },
    {
      "cell_type": "code",
      "source": [
        "knn = stack.estimators_[0]\n",
        "rf = stack.estimators_[1]"
      ],
      "metadata": {
        "id": "jsVZv_IxRWRC"
      },
      "execution_count": null,
      "outputs": []
    },
    {
      "cell_type": "code",
      "source": [
        "print('knn: ' + str(knn.score(X_train, y_train)))\n"
      ],
      "metadata": {
        "colab": {
          "base_uri": "https://localhost:8080/"
        },
        "outputId": "210df000-dd26-460d-e6ca-e41b425fb1cd",
        "id": "9TyNCSynRWRD"
      },
      "execution_count": null,
      "outputs": [
        {
          "output_type": "stream",
          "name": "stdout",
          "text": [
            "knn: 0.9225352112676056\n"
          ]
        }
      ]
    },
    {
      "cell_type": "code",
      "source": [
        "y_knn_pred = knn.predict(X_test)\n",
        "\n",
        "for i, j in zip([y_knn_pred],\n",
        "                ['knn']):\n",
        "    print(j)\n",
        "    print('accuracy_score: ' + str(accuracy_score(y_test, i)))\n",
        "    print('precision_score: ' + str(precision_score(y_test, i)))\n",
        "    print('recall_score: ' + str(recall_score(y_test, i)))\n",
        "    print('f1_score: ' + str(f1_score(y_test, i)))\n",
        "    print()"
      ],
      "metadata": {
        "colab": {
          "base_uri": "https://localhost:8080/"
        },
        "outputId": "cae1534c-c4a9-44e5-c1cd-80eebf62e5e2",
        "id": "AICmLT6KRWRD"
      },
      "execution_count": null,
      "outputs": [
        {
          "output_type": "stream",
          "name": "stdout",
          "text": [
            "knn\n",
            "accuracy_score: 0.8951048951048951\n",
            "precision_score: 0.8787878787878788\n",
            "recall_score: 0.9666666666666667\n",
            "f1_score: 0.9206349206349207\n",
            "\n"
          ]
        }
      ]
    },
    {
      "cell_type": "code",
      "source": [
        "confusao = confusion_matrix(y_test, i)\n",
        "confusao"
      ],
      "metadata": {
        "colab": {
          "base_uri": "https://localhost:8080/"
        },
        "outputId": "495e48e0-99c2-4b26-8cc4-d4e95667ac49",
        "id": "dgPBbzHDRWRD"
      },
      "execution_count": null,
      "outputs": [
        {
          "output_type": "execute_result",
          "data": {
            "text/plain": [
              "array([[41, 12],\n",
              "       [ 3, 87]])"
            ]
          },
          "metadata": {},
          "execution_count": 494
        }
      ]
    },
    {
      "cell_type": "markdown",
      "source": [
        "# Exercício 03:\n",
        "\n",
        "Compare os resultados (F1 de cada método com cada configuração) em um gráfico. Qual foi o melhor método? Houve diferença significativa com as variações de parâmetros?"
      ],
      "metadata": {
        "id": "QWcCZPJtM2v3"
      }
    },
    {
      "cell_type": "code",
      "source": [
        "from matplotlib import pyplot as plt"
      ],
      "metadata": {
        "id": "geE_6MXpM-4q"
      },
      "execution_count": null,
      "outputs": []
    },
    {
      "cell_type": "code",
      "source": [
        "F1 = ['rf50', 'rf100', 'rf150', 'rf200', 'knn10', 'knn100', 'knn50']\n",
        "valores = [0.9723756906077348, 0.967032967032967, 0.967032967032967, 0.967032967032967, 0.9456521739130436, 0.9109947643979057, 0.9206349206349207]\n",
        "plt.bar(F1, valores)\n",
        "plt.show()"
      ],
      "metadata": {
        "colab": {
          "base_uri": "https://localhost:8080/",
          "height": 265
        },
        "id": "ZcnOfhPEKtSU",
        "outputId": "25e0e860-54d9-4473-98f4-33e992239d53"
      },
      "execution_count": null,
      "outputs": [
        {
          "output_type": "display_data",
          "data": {
            "image/png": "[encoded data removed]",
            "text/plain": [
              "<Figure size 432x288 with 1 Axes>"
            ]
          },
          "metadata": {
            "needs_background": "light"
          }
        }
      ]
    },
    {
      "cell_type": "markdown",
      "source": [
        "É possível notar uma variação suave nos knns com menor número de vizinhos. Com isso, o RAndom Forest parece ser o melhor método."
      ],
      "metadata": {
        "id": "44WWvvzIMKDz"
      }
    },
    {
      "cell_type": "markdown",
      "source": [
        "# Exercício 04:\n",
        "\n",
        "Escolha a melhor configuração/método e refaça o modelo, agora usando apenas 5 features. (Você pode selecionar aleatoriamente ou usar alguma metodologia de feature selection). O que aconteceu com a F1? Por quê?"
      ],
      "metadata": {
        "id": "mQEFIeXb83CT"
      }
    },
    {
      "cell_type": "code",
      "source": [],
      "metadata": {
        "id": "p8rCrGj8Dq0v"
      },
      "execution_count": null,
      "outputs": []
    }
  ],
  "metadata": {
    "kernelspec": {
      "display_name": "Python 3",
      "language": "python",
      "name": "python3"
    },
    "language_info": {
      "codemirror_mode": {
        "name": "ipython",
        "version": 3
      },
      "file_extension": ".py",
      "mimetype": "text/x-python",
      "name": "python",
      "nbconvert_exporter": "python",
      "pygments_lexer": "ipython3",
      "version": "3.6.6"
    },
    "colab": {
      "provenance": []
    }
  },
  "nbformat": 4,
  "nbformat_minor": 0
}