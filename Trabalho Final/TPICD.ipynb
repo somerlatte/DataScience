{
  "cells": [
    {
      "cell_type": "markdown",
      "metadata": {
        "id": "AMibw2Bjm_qf"
      },
      "source": [
        "# Trabalho Prático - Introdução à Ciência de Dados\n",
        "\n",
        "**Alunos:**\n",
        "1.   Evaldo Martins de Souza - 2019094163\n",
        "2.   Lorrayne Somerlattedos Santos - 2018065895\n",
        "3.   Lucas Xavier Veneroso - 2016065138\n",
        "\n",
        "Dataset: [Spotify Tracks DB](https://www.kaggle.com/zaheenhamidani/ultimate-spotify-tracks-db/code)"
      ]
    },
    {
      "cell_type": "markdown",
      "source": [
        "## **[Vídeo](https://youtu.be/0y_cCK9msIE) de Apresentação**"
      ],
      "metadata": {
        "id": "CDULWoyIcBe3"
      }
    },
    {
      "cell_type": "markdown",
      "metadata": {
        "id": "3o6wz8UBngFJ"
      },
      "source": [
        "# **Introdução**\n",
        "\n",
        "Nesse projeto iremos prever a popularidade de músicas de acordo com suas notas musicais, dançabilidade e acústica. Para isso, usaremos a base de dados Spotify Tracks DB, disponível no Kaggle."
      ]
    },
    {
      "cell_type": "markdown",
      "metadata": {
        "id": "plg5NzWPrNVo"
      },
      "source": [
        "A definição dos features estão disponíveis na página [Spotify for Developers](https://developer.spotify.com/documentation/web-api/reference/#/operations/get-audio-features)\n",
        "\n"
      ]
    },
    {
      "cell_type": "markdown",
      "metadata": {
        "id": "NG-kwEeXolM1"
      },
      "source": [
        "### Packages"
      ]
    },
    {
      "cell_type": "code",
      "execution_count": 32,
      "metadata": {
        "id": "P-MTIGg_oiWs"
      },
      "outputs": [],
      "source": [
        "import numpy as np \n",
        "import pandas as pd\n",
        "import seaborn as sns\n",
        "\n",
        "from matplotlib import pyplot as plt\n",
        "%matplotlib inline\n",
        "sns.set_style(\"whitegrid\")\n",
        "\n",
        "import warnings\n",
        "warnings.filterwarnings(\"ignore\")"
      ]
    },
    {
      "cell_type": "markdown",
      "metadata": {
        "id": "KiBm2BjApe4N"
      },
      "source": [
        "### Carregando e visualizando Spotify Tracks DB"
      ]
    },
    {
      "cell_type": "markdown",
      "metadata": {
        "id": "hycFoo7opx5J"
      },
      "source": [
        "Checando as estatísticas gerais"
      ]
    },
    {
      "cell_type": "code",
      "execution_count": 33,
      "metadata": {
        "id": "nro-IkDdpwLk"
      },
      "outputs": [],
      "source": [
        "spotify = 'https://raw.githubusercontent.com/somerlatte/DataScience/main/SpotifyFeatures.csv'\n",
        "dataframe = pd.read_csv(spotify)"
      ]
    },
    {
      "cell_type": "code",
      "execution_count": 34,
      "metadata": {
        "colab": {
          "base_uri": "https://localhost:8080/",
          "height": 461
        },
        "id": "IkIw2e3dqgSF",
        "outputId": "2f922857-1711-416e-e854-9e5f4abba92a"
      },
      "outputs": [
        {
          "output_type": "execute_result",
          "data": {
            "text/html": [
              "\n",
              "  <div id=\"df-e5a0c29c-0637-4b3b-8aff-6963ff467176\">\n",
              "    <div class=\"colab-df-container\">\n",
              "      <div>\n",
              "<style scoped>\n",
              "    .dataframe tbody tr th:only-of-type {\n",
              "        vertical-align: middle;\n",
              "    }\n",
              "\n",
              "    .dataframe tbody tr th {\n",
              "        vertical-align: top;\n",
              "    }\n",
              "\n",
              "    .dataframe thead th {\n",
              "        text-align: right;\n",
              "    }\n",
              "</style>\n",
              "<table border=\"1\" class=\"dataframe\">\n",
              "  <thead>\n",
              "    <tr style=\"text-align: right;\">\n",
              "      <th></th>\n",
              "      <th>genre</th>\n",
              "      <th>artist_name</th>\n",
              "      <th>track_name</th>\n",
              "      <th>track_id</th>\n",
              "      <th>popularity</th>\n",
              "      <th>acousticness</th>\n",
              "      <th>danceability</th>\n",
              "      <th>duration_ms</th>\n",
              "      <th>energy</th>\n",
              "      <th>instrumentalness</th>\n",
              "      <th>key</th>\n",
              "      <th>liveness</th>\n",
              "      <th>loudness</th>\n",
              "      <th>mode</th>\n",
              "      <th>speechiness</th>\n",
              "      <th>tempo</th>\n",
              "      <th>time_signature</th>\n",
              "      <th>valence</th>\n",
              "    </tr>\n",
              "  </thead>\n",
              "  <tbody>\n",
              "    <tr>\n",
              "      <th>0</th>\n",
              "      <td>Movie</td>\n",
              "      <td>Henri Salvador</td>\n",
              "      <td>C'est beau de faire un Show</td>\n",
              "      <td>0BRjO6ga9RKCKjfDqeFgWV</td>\n",
              "      <td>0</td>\n",
              "      <td>0.611</td>\n",
              "      <td>0.389</td>\n",
              "      <td>99373</td>\n",
              "      <td>0.910</td>\n",
              "      <td>0.000</td>\n",
              "      <td>C#</td>\n",
              "      <td>0.3460</td>\n",
              "      <td>-1.828</td>\n",
              "      <td>Major</td>\n",
              "      <td>0.0525</td>\n",
              "      <td>166.969</td>\n",
              "      <td>4/4</td>\n",
              "      <td>0.814</td>\n",
              "    </tr>\n",
              "    <tr>\n",
              "      <th>1</th>\n",
              "      <td>Movie</td>\n",
              "      <td>Martin &amp; les fées</td>\n",
              "      <td>Perdu d'avance (par Gad Elmaleh)</td>\n",
              "      <td>0BjC1NfoEOOusryehmNudP</td>\n",
              "      <td>1</td>\n",
              "      <td>0.246</td>\n",
              "      <td>0.590</td>\n",
              "      <td>137373</td>\n",
              "      <td>0.737</td>\n",
              "      <td>0.000</td>\n",
              "      <td>F#</td>\n",
              "      <td>0.1510</td>\n",
              "      <td>-5.559</td>\n",
              "      <td>Minor</td>\n",
              "      <td>0.0868</td>\n",
              "      <td>174.003</td>\n",
              "      <td>4/4</td>\n",
              "      <td>0.816</td>\n",
              "    </tr>\n",
              "    <tr>\n",
              "      <th>2</th>\n",
              "      <td>Movie</td>\n",
              "      <td>Joseph Williams</td>\n",
              "      <td>Don't Let Me Be Lonely Tonight</td>\n",
              "      <td>0CoSDzoNIKCRs124s9uTVy</td>\n",
              "      <td>3</td>\n",
              "      <td>0.952</td>\n",
              "      <td>0.663</td>\n",
              "      <td>170267</td>\n",
              "      <td>0.131</td>\n",
              "      <td>0.000</td>\n",
              "      <td>C</td>\n",
              "      <td>0.1030</td>\n",
              "      <td>-13.879</td>\n",
              "      <td>Minor</td>\n",
              "      <td>0.0362</td>\n",
              "      <td>99.488</td>\n",
              "      <td>5/4</td>\n",
              "      <td>0.368</td>\n",
              "    </tr>\n",
              "    <tr>\n",
              "      <th>3</th>\n",
              "      <td>Movie</td>\n",
              "      <td>Henri Salvador</td>\n",
              "      <td>Dis-moi Monsieur Gordon Cooper</td>\n",
              "      <td>0Gc6TVm52BwZD07Ki6tIvf</td>\n",
              "      <td>0</td>\n",
              "      <td>0.703</td>\n",
              "      <td>0.240</td>\n",
              "      <td>152427</td>\n",
              "      <td>0.326</td>\n",
              "      <td>0.000</td>\n",
              "      <td>C#</td>\n",
              "      <td>0.0985</td>\n",
              "      <td>-12.178</td>\n",
              "      <td>Major</td>\n",
              "      <td>0.0395</td>\n",
              "      <td>171.758</td>\n",
              "      <td>4/4</td>\n",
              "      <td>0.227</td>\n",
              "    </tr>\n",
              "    <tr>\n",
              "      <th>4</th>\n",
              "      <td>Movie</td>\n",
              "      <td>Fabien Nataf</td>\n",
              "      <td>Ouverture</td>\n",
              "      <td>0IuslXpMROHdEPvSl1fTQK</td>\n",
              "      <td>4</td>\n",
              "      <td>0.950</td>\n",
              "      <td>0.331</td>\n",
              "      <td>82625</td>\n",
              "      <td>0.225</td>\n",
              "      <td>0.123</td>\n",
              "      <td>F</td>\n",
              "      <td>0.2020</td>\n",
              "      <td>-21.150</td>\n",
              "      <td>Major</td>\n",
              "      <td>0.0456</td>\n",
              "      <td>140.576</td>\n",
              "      <td>4/4</td>\n",
              "      <td>0.390</td>\n",
              "    </tr>\n",
              "  </tbody>\n",
              "</table>\n",
              "</div>\n",
              "      <button class=\"colab-df-convert\" onclick=\"convertToInteractive('df-e5a0c29c-0637-4b3b-8aff-6963ff467176')\"\n",
              "              title=\"Convert this dataframe to an interactive table.\"\n",
              "              style=\"display:none;\">\n",
              "        \n",
              "  <svg xmlns=\"http://www.w3.org/2000/svg\" height=\"24px\"viewBox=\"0 0 24 24\"\n",
              "       width=\"24px\">\n",
              "    <path d=\"M0 0h24v24H0V0z\" fill=\"none\"/>\n",
              "    <path d=\"M18.56 5.44l.94 2.06.94-2.06 2.06-.94-2.06-.94-.94-2.06-.94 2.06-2.06.94zm-11 1L8.5 8.5l.94-2.06 2.06-.94-2.06-.94L8.5 2.5l-.94 2.06-2.06.94zm10 10l.94 2.06.94-2.06 2.06-.94-2.06-.94-.94-2.06-.94 2.06-2.06.94z\"/><path d=\"M17.41 7.96l-1.37-1.37c-.4-.4-.92-.59-1.43-.59-.52 0-1.04.2-1.43.59L10.3 9.45l-7.72 7.72c-.78.78-.78 2.05 0 2.83L4 21.41c.39.39.9.59 1.41.59.51 0 1.02-.2 1.41-.59l7.78-7.78 2.81-2.81c.8-.78.8-2.07 0-2.86zM5.41 20L4 18.59l7.72-7.72 1.47 1.35L5.41 20z\"/>\n",
              "  </svg>\n",
              "      </button>\n",
              "      \n",
              "  <style>\n",
              "    .colab-df-container {\n",
              "      display:flex;\n",
              "      flex-wrap:wrap;\n",
              "      gap: 12px;\n",
              "    }\n",
              "\n",
              "    .colab-df-convert {\n",
              "      background-color: #E8F0FE;\n",
              "      border: none;\n",
              "      border-radius: 50%;\n",
              "      cursor: pointer;\n",
              "      display: none;\n",
              "      fill: #1967D2;\n",
              "      height: 32px;\n",
              "      padding: 0 0 0 0;\n",
              "      width: 32px;\n",
              "    }\n",
              "\n",
              "    .colab-df-convert:hover {\n",
              "      background-color: #E2EBFA;\n",
              "      box-shadow: 0px 1px 2px rgba(60, 64, 67, 0.3), 0px 1px 3px 1px rgba(60, 64, 67, 0.15);\n",
              "      fill: #174EA6;\n",
              "    }\n",
              "\n",
              "    [theme=dark] .colab-df-convert {\n",
              "      background-color: #3B4455;\n",
              "      fill: #D2E3FC;\n",
              "    }\n",
              "\n",
              "    [theme=dark] .colab-df-convert:hover {\n",
              "      background-color: #434B5C;\n",
              "      box-shadow: 0px 1px 3px 1px rgba(0, 0, 0, 0.15);\n",
              "      filter: drop-shadow(0px 1px 2px rgba(0, 0, 0, 0.3));\n",
              "      fill: #FFFFFF;\n",
              "    }\n",
              "  </style>\n",
              "\n",
              "      <script>\n",
              "        const buttonEl =\n",
              "          document.querySelector('#df-e5a0c29c-0637-4b3b-8aff-6963ff467176 button.colab-df-convert');\n",
              "        buttonEl.style.display =\n",
              "          google.colab.kernel.accessAllowed ? 'block' : 'none';\n",
              "\n",
              "        async function convertToInteractive(key) {\n",
              "          const element = document.querySelector('#df-e5a0c29c-0637-4b3b-8aff-6963ff467176');\n",
              "          const dataTable =\n",
              "            await google.colab.kernel.invokeFunction('convertToInteractive',\n",
              "                                                     [key], {});\n",
              "          if (!dataTable) return;\n",
              "\n",
              "          const docLinkHtml = 'Like what you see? Visit the ' +\n",
              "            '<a target=\"_blank\" href=https://colab.research.google.com/notebooks/data_table.ipynb>data table notebook</a>'\n",
              "            + ' to learn more about interactive tables.';\n",
              "          element.innerHTML = '';\n",
              "          dataTable['output_type'] = 'display_data';\n",
              "          await google.colab.output.renderOutput(dataTable, element);\n",
              "          const docLink = document.createElement('div');\n",
              "          docLink.innerHTML = docLinkHtml;\n",
              "          element.appendChild(docLink);\n",
              "        }\n",
              "      </script>\n",
              "    </div>\n",
              "  </div>\n",
              "  "
            ],
            "text/plain": [
              "   genre        artist_name  ... time_signature valence\n",
              "0  Movie     Henri Salvador  ...            4/4   0.814\n",
              "1  Movie  Martin & les fées  ...            4/4   0.816\n",
              "2  Movie    Joseph Williams  ...            5/4   0.368\n",
              "3  Movie     Henri Salvador  ...            4/4   0.227\n",
              "4  Movie       Fabien Nataf  ...            4/4   0.390\n",
              "\n",
              "[5 rows x 18 columns]"
            ]
          },
          "metadata": {},
          "execution_count": 34
        }
      ],
      "source": [
        "dataframe.head()"
      ]
    },
    {
      "cell_type": "code",
      "execution_count": 35,
      "metadata": {
        "colab": {
          "base_uri": "https://localhost:8080/",
          "height": 365
        },
        "id": "Kax2IftrquVt",
        "outputId": "7691033e-889f-4a64-9d96-4f3f9ab69482"
      },
      "outputs": [
        {
          "output_type": "execute_result",
          "data": {
            "text/html": [
              "\n",
              "  <div id=\"df-bf81f6c8-fdbf-411b-a043-7725e2ea6a1b\">\n",
              "    <div class=\"colab-df-container\">\n",
              "      <div>\n",
              "<style scoped>\n",
              "    .dataframe tbody tr th:only-of-type {\n",
              "        vertical-align: middle;\n",
              "    }\n",
              "\n",
              "    .dataframe tbody tr th {\n",
              "        vertical-align: top;\n",
              "    }\n",
              "\n",
              "    .dataframe thead th {\n",
              "        text-align: right;\n",
              "    }\n",
              "</style>\n",
              "<table border=\"1\" class=\"dataframe\">\n",
              "  <thead>\n",
              "    <tr style=\"text-align: right;\">\n",
              "      <th></th>\n",
              "      <th>popularity</th>\n",
              "      <th>acousticness</th>\n",
              "      <th>danceability</th>\n",
              "      <th>duration_ms</th>\n",
              "      <th>energy</th>\n",
              "      <th>instrumentalness</th>\n",
              "      <th>liveness</th>\n",
              "      <th>loudness</th>\n",
              "      <th>speechiness</th>\n",
              "      <th>tempo</th>\n",
              "      <th>valence</th>\n",
              "    </tr>\n",
              "  </thead>\n",
              "  <tbody>\n",
              "    <tr>\n",
              "      <th>count</th>\n",
              "      <td>232725.000000</td>\n",
              "      <td>232725.000000</td>\n",
              "      <td>232725.000000</td>\n",
              "      <td>2.327250e+05</td>\n",
              "      <td>232725.000000</td>\n",
              "      <td>232725.000000</td>\n",
              "      <td>232725.000000</td>\n",
              "      <td>232725.000000</td>\n",
              "      <td>232725.000000</td>\n",
              "      <td>232725.000000</td>\n",
              "      <td>232725.000000</td>\n",
              "    </tr>\n",
              "    <tr>\n",
              "      <th>mean</th>\n",
              "      <td>41.127502</td>\n",
              "      <td>0.368560</td>\n",
              "      <td>0.554364</td>\n",
              "      <td>2.351223e+05</td>\n",
              "      <td>0.570958</td>\n",
              "      <td>0.148301</td>\n",
              "      <td>0.215009</td>\n",
              "      <td>-9.569885</td>\n",
              "      <td>0.120765</td>\n",
              "      <td>117.666585</td>\n",
              "      <td>0.454917</td>\n",
              "    </tr>\n",
              "    <tr>\n",
              "      <th>std</th>\n",
              "      <td>18.189948</td>\n",
              "      <td>0.354768</td>\n",
              "      <td>0.185608</td>\n",
              "      <td>1.189359e+05</td>\n",
              "      <td>0.263456</td>\n",
              "      <td>0.302768</td>\n",
              "      <td>0.198273</td>\n",
              "      <td>5.998204</td>\n",
              "      <td>0.185518</td>\n",
              "      <td>30.898907</td>\n",
              "      <td>0.260065</td>\n",
              "    </tr>\n",
              "    <tr>\n",
              "      <th>min</th>\n",
              "      <td>0.000000</td>\n",
              "      <td>0.000000</td>\n",
              "      <td>0.056900</td>\n",
              "      <td>1.538700e+04</td>\n",
              "      <td>0.000020</td>\n",
              "      <td>0.000000</td>\n",
              "      <td>0.009670</td>\n",
              "      <td>-52.457000</td>\n",
              "      <td>0.022200</td>\n",
              "      <td>30.379000</td>\n",
              "      <td>0.000000</td>\n",
              "    </tr>\n",
              "    <tr>\n",
              "      <th>25%</th>\n",
              "      <td>29.000000</td>\n",
              "      <td>0.037600</td>\n",
              "      <td>0.435000</td>\n",
              "      <td>1.828570e+05</td>\n",
              "      <td>0.385000</td>\n",
              "      <td>0.000000</td>\n",
              "      <td>0.097400</td>\n",
              "      <td>-11.771000</td>\n",
              "      <td>0.036700</td>\n",
              "      <td>92.959000</td>\n",
              "      <td>0.237000</td>\n",
              "    </tr>\n",
              "    <tr>\n",
              "      <th>50%</th>\n",
              "      <td>43.000000</td>\n",
              "      <td>0.232000</td>\n",
              "      <td>0.571000</td>\n",
              "      <td>2.204270e+05</td>\n",
              "      <td>0.605000</td>\n",
              "      <td>0.000044</td>\n",
              "      <td>0.128000</td>\n",
              "      <td>-7.762000</td>\n",
              "      <td>0.050100</td>\n",
              "      <td>115.778000</td>\n",
              "      <td>0.444000</td>\n",
              "    </tr>\n",
              "    <tr>\n",
              "      <th>75%</th>\n",
              "      <td>55.000000</td>\n",
              "      <td>0.722000</td>\n",
              "      <td>0.692000</td>\n",
              "      <td>2.657680e+05</td>\n",
              "      <td>0.787000</td>\n",
              "      <td>0.035800</td>\n",
              "      <td>0.264000</td>\n",
              "      <td>-5.501000</td>\n",
              "      <td>0.105000</td>\n",
              "      <td>139.054000</td>\n",
              "      <td>0.660000</td>\n",
              "    </tr>\n",
              "    <tr>\n",
              "      <th>max</th>\n",
              "      <td>100.000000</td>\n",
              "      <td>0.996000</td>\n",
              "      <td>0.989000</td>\n",
              "      <td>5.552917e+06</td>\n",
              "      <td>0.999000</td>\n",
              "      <td>0.999000</td>\n",
              "      <td>1.000000</td>\n",
              "      <td>3.744000</td>\n",
              "      <td>0.967000</td>\n",
              "      <td>242.903000</td>\n",
              "      <td>1.000000</td>\n",
              "    </tr>\n",
              "  </tbody>\n",
              "</table>\n",
              "</div>\n",
              "      <button class=\"colab-df-convert\" onclick=\"convertToInteractive('df-bf81f6c8-fdbf-411b-a043-7725e2ea6a1b')\"\n",
              "              title=\"Convert this dataframe to an interactive table.\"\n",
              "              style=\"display:none;\">\n",
              "        \n",
              "  <svg xmlns=\"http://www.w3.org/2000/svg\" height=\"24px\"viewBox=\"0 0 24 24\"\n",
              "       width=\"24px\">\n",
              "    <path d=\"M0 0h24v24H0V0z\" fill=\"none\"/>\n",
              "    <path d=\"M18.56 5.44l.94 2.06.94-2.06 2.06-.94-2.06-.94-.94-2.06-.94 2.06-2.06.94zm-11 1L8.5 8.5l.94-2.06 2.06-.94-2.06-.94L8.5 2.5l-.94 2.06-2.06.94zm10 10l.94 2.06.94-2.06 2.06-.94-2.06-.94-.94-2.06-.94 2.06-2.06.94z\"/><path d=\"M17.41 7.96l-1.37-1.37c-.4-.4-.92-.59-1.43-.59-.52 0-1.04.2-1.43.59L10.3 9.45l-7.72 7.72c-.78.78-.78 2.05 0 2.83L4 21.41c.39.39.9.59 1.41.59.51 0 1.02-.2 1.41-.59l7.78-7.78 2.81-2.81c.8-.78.8-2.07 0-2.86zM5.41 20L4 18.59l7.72-7.72 1.47 1.35L5.41 20z\"/>\n",
              "  </svg>\n",
              "      </button>\n",
              "      \n",
              "  <style>\n",
              "    .colab-df-container {\n",
              "      display:flex;\n",
              "      flex-wrap:wrap;\n",
              "      gap: 12px;\n",
              "    }\n",
              "\n",
              "    .colab-df-convert {\n",
              "      background-color: #E8F0FE;\n",
              "      border: none;\n",
              "      border-radius: 50%;\n",
              "      cursor: pointer;\n",
              "      display: none;\n",
              "      fill: #1967D2;\n",
              "      height: 32px;\n",
              "      padding: 0 0 0 0;\n",
              "      width: 32px;\n",
              "    }\n",
              "\n",
              "    .colab-df-convert:hover {\n",
              "      background-color: #E2EBFA;\n",
              "      box-shadow: 0px 1px 2px rgba(60, 64, 67, 0.3), 0px 1px 3px 1px rgba(60, 64, 67, 0.15);\n",
              "      fill: #174EA6;\n",
              "    }\n",
              "\n",
              "    [theme=dark] .colab-df-convert {\n",
              "      background-color: #3B4455;\n",
              "      fill: #D2E3FC;\n",
              "    }\n",
              "\n",
              "    [theme=dark] .colab-df-convert:hover {\n",
              "      background-color: #434B5C;\n",
              "      box-shadow: 0px 1px 3px 1px rgba(0, 0, 0, 0.15);\n",
              "      filter: drop-shadow(0px 1px 2px rgba(0, 0, 0, 0.3));\n",
              "      fill: #FFFFFF;\n",
              "    }\n",
              "  </style>\n",
              "\n",
              "      <script>\n",
              "        const buttonEl =\n",
              "          document.querySelector('#df-bf81f6c8-fdbf-411b-a043-7725e2ea6a1b button.colab-df-convert');\n",
              "        buttonEl.style.display =\n",
              "          google.colab.kernel.accessAllowed ? 'block' : 'none';\n",
              "\n",
              "        async function convertToInteractive(key) {\n",
              "          const element = document.querySelector('#df-bf81f6c8-fdbf-411b-a043-7725e2ea6a1b');\n",
              "          const dataTable =\n",
              "            await google.colab.kernel.invokeFunction('convertToInteractive',\n",
              "                                                     [key], {});\n",
              "          if (!dataTable) return;\n",
              "\n",
              "          const docLinkHtml = 'Like what you see? Visit the ' +\n",
              "            '<a target=\"_blank\" href=https://colab.research.google.com/notebooks/data_table.ipynb>data table notebook</a>'\n",
              "            + ' to learn more about interactive tables.';\n",
              "          element.innerHTML = '';\n",
              "          dataTable['output_type'] = 'display_data';\n",
              "          await google.colab.output.renderOutput(dataTable, element);\n",
              "          const docLink = document.createElement('div');\n",
              "          docLink.innerHTML = docLinkHtml;\n",
              "          element.appendChild(docLink);\n",
              "        }\n",
              "      </script>\n",
              "    </div>\n",
              "  </div>\n",
              "  "
            ],
            "text/plain": [
              "          popularity   acousticness  ...          tempo        valence\n",
              "count  232725.000000  232725.000000  ...  232725.000000  232725.000000\n",
              "mean       41.127502       0.368560  ...     117.666585       0.454917\n",
              "std        18.189948       0.354768  ...      30.898907       0.260065\n",
              "min         0.000000       0.000000  ...      30.379000       0.000000\n",
              "25%        29.000000       0.037600  ...      92.959000       0.237000\n",
              "50%        43.000000       0.232000  ...     115.778000       0.444000\n",
              "75%        55.000000       0.722000  ...     139.054000       0.660000\n",
              "max       100.000000       0.996000  ...     242.903000       1.000000\n",
              "\n",
              "[8 rows x 11 columns]"
            ]
          },
          "metadata": {},
          "execution_count": 35
        }
      ],
      "source": [
        "dataframe.describe()"
      ]
    },
    {
      "cell_type": "code",
      "execution_count": 36,
      "metadata": {
        "colab": {
          "base_uri": "https://localhost:8080/"
        },
        "id": "0t-UwOT4qyuh",
        "outputId": "8e19f8ff-6dbf-4aef-95f7-b801c6887f24"
      },
      "outputs": [
        {
          "output_type": "stream",
          "name": "stdout",
          "text": [
            "Index(['genre', 'artist_name', 'track_name', 'track_id', 'popularity',\n",
            "       'acousticness', 'danceability', 'duration_ms', 'energy',\n",
            "       'instrumentalness', 'key', 'liveness', 'loudness', 'mode',\n",
            "       'speechiness', 'tempo', 'time_signature', 'valence'],\n",
            "      dtype='object')\n"
          ]
        }
      ],
      "source": [
        "print(dataframe.keys())"
      ]
    },
    {
      "cell_type": "markdown",
      "metadata": {
        "id": "iU7vR_XOrp7F"
      },
      "source": [
        "### Checando valores nulos (NaN)"
      ]
    },
    {
      "cell_type": "code",
      "execution_count": 37,
      "metadata": {
        "colab": {
          "base_uri": "https://localhost:8080/"
        },
        "id": "VqB9ruu1roZZ",
        "outputId": "0406f03d-e45e-498a-97f2-9b77d01211bf"
      },
      "outputs": [
        {
          "output_type": "execute_result",
          "data": {
            "text/plain": [
              "genre               0\n",
              "artist_name         0\n",
              "track_name          0\n",
              "track_id            0\n",
              "popularity          0\n",
              "acousticness        0\n",
              "danceability        0\n",
              "duration_ms         0\n",
              "energy              0\n",
              "instrumentalness    0\n",
              "key                 0\n",
              "liveness            0\n",
              "loudness            0\n",
              "mode                0\n",
              "speechiness         0\n",
              "tempo               0\n",
              "time_signature      0\n",
              "valence             0\n",
              "dtype: int64"
            ]
          },
          "metadata": {},
          "execution_count": 37
        }
      ],
      "source": [
        "pd.isnull(dataframe).sum()"
      ]
    },
    {
      "cell_type": "markdown",
      "metadata": {
        "id": "h6pW4xbfr6eR"
      },
      "source": [
        "Como é possível visualizar, não existem valores nulos. Felizmente, não precisamos preencher nenhuma informação."
      ]
    },
    {
      "cell_type": "markdown",
      "metadata": {
        "id": "DZIFY6dusX2L"
      },
      "source": [
        "# Análise Exploratória"
      ]
    },
    {
      "cell_type": "markdown",
      "metadata": {
        "id": "ZhBlr8NzseVJ"
      },
      "source": [
        "Agora iremos checar têndencias no nosso dataset para vermos quais variáveis possuem correlação."
      ]
    },
    {
      "cell_type": "code",
      "execution_count": 38,
      "metadata": {
        "colab": {
          "base_uri": "https://localhost:8080/",
          "height": 313
        },
        "id": "0H9op07BtId0",
        "outputId": "af008a36-3846-4c4b-8325-cf4c574502ad"
      },
      "outputs": [
        {
          "output_type": "execute_result",
          "data": {
            "text/plain": [
              "Text(0.5, 1.0, 'DIstribuição de Popularidade')"
            ]
          },
          "metadata": {},
          "execution_count": 38
        },
        {
          "output_type": "display_data",
          "data": {
            "image/png": "[encoded data removed]",
            "text/plain": [
              "<Figure size 432x288 with 1 Axes>"
            ]
          },
          "metadata": {}
        }
      ],
      "source": [
        "sns.distplot(dataframe['popularity']).set_title('DIstribuição de Popularidade')"
      ]
    },
    {
      "cell_type": "code",
      "execution_count": 39,
      "metadata": {
        "colab": {
          "base_uri": "https://localhost:8080/",
          "height": 458
        },
        "id": "S-oczIyItzWL",
        "outputId": "35c9fa89-613c-4a69-ba55-d4dc5c5131af"
      },
      "outputs": [
        {
          "output_type": "execute_result",
          "data": {
            "text/html": [
              "\n",
              "  <div id=\"df-c85543b6-8dce-432c-ae08-0384b3eea1dc\">\n",
              "    <div class=\"colab-df-container\">\n",
              "      <div>\n",
              "<style scoped>\n",
              "    .dataframe tbody tr th:only-of-type {\n",
              "        vertical-align: middle;\n",
              "    }\n",
              "\n",
              "    .dataframe tbody tr th {\n",
              "        vertical-align: top;\n",
              "    }\n",
              "\n",
              "    .dataframe thead th {\n",
              "        text-align: right;\n",
              "    }\n",
              "</style>\n",
              "<table border=\"1\" class=\"dataframe\">\n",
              "  <thead>\n",
              "    <tr style=\"text-align: right;\">\n",
              "      <th></th>\n",
              "      <th>popularity</th>\n",
              "      <th>acousticness</th>\n",
              "      <th>danceability</th>\n",
              "      <th>duration_ms</th>\n",
              "      <th>energy</th>\n",
              "      <th>instrumentalness</th>\n",
              "      <th>liveness</th>\n",
              "      <th>loudness</th>\n",
              "      <th>speechiness</th>\n",
              "      <th>tempo</th>\n",
              "      <th>valence</th>\n",
              "    </tr>\n",
              "  </thead>\n",
              "  <tbody>\n",
              "    <tr>\n",
              "      <th>popularity</th>\n",
              "      <td>1.000000</td>\n",
              "      <td>-0.381295</td>\n",
              "      <td>0.256564</td>\n",
              "      <td>0.002348</td>\n",
              "      <td>0.248922</td>\n",
              "      <td>-0.210983</td>\n",
              "      <td>-0.167995</td>\n",
              "      <td>0.363011</td>\n",
              "      <td>-0.151076</td>\n",
              "      <td>0.081039</td>\n",
              "      <td>0.060076</td>\n",
              "    </tr>\n",
              "    <tr>\n",
              "      <th>acousticness</th>\n",
              "      <td>-0.381295</td>\n",
              "      <td>1.000000</td>\n",
              "      <td>-0.364546</td>\n",
              "      <td>0.011203</td>\n",
              "      <td>-0.725576</td>\n",
              "      <td>0.316154</td>\n",
              "      <td>0.069004</td>\n",
              "      <td>-0.690202</td>\n",
              "      <td>0.150935</td>\n",
              "      <td>-0.238247</td>\n",
              "      <td>-0.325798</td>\n",
              "    </tr>\n",
              "    <tr>\n",
              "      <th>danceability</th>\n",
              "      <td>0.256564</td>\n",
              "      <td>-0.364546</td>\n",
              "      <td>1.000000</td>\n",
              "      <td>-0.125781</td>\n",
              "      <td>0.325807</td>\n",
              "      <td>-0.364941</td>\n",
              "      <td>-0.041684</td>\n",
              "      <td>0.438668</td>\n",
              "      <td>0.134560</td>\n",
              "      <td>0.021939</td>\n",
              "      <td>0.547154</td>\n",
              "    </tr>\n",
              "    <tr>\n",
              "      <th>duration_ms</th>\n",
              "      <td>0.002348</td>\n",
              "      <td>0.011203</td>\n",
              "      <td>-0.125781</td>\n",
              "      <td>1.000000</td>\n",
              "      <td>-0.030550</td>\n",
              "      <td>0.076021</td>\n",
              "      <td>0.023783</td>\n",
              "      <td>-0.047618</td>\n",
              "      <td>-0.016171</td>\n",
              "      <td>-0.028456</td>\n",
              "      <td>-0.141811</td>\n",
              "    </tr>\n",
              "    <tr>\n",
              "      <th>energy</th>\n",
              "      <td>0.248922</td>\n",
              "      <td>-0.725576</td>\n",
              "      <td>0.325807</td>\n",
              "      <td>-0.030550</td>\n",
              "      <td>1.000000</td>\n",
              "      <td>-0.378957</td>\n",
              "      <td>0.192801</td>\n",
              "      <td>0.816088</td>\n",
              "      <td>0.145120</td>\n",
              "      <td>0.228774</td>\n",
              "      <td>0.436771</td>\n",
              "    </tr>\n",
              "    <tr>\n",
              "      <th>instrumentalness</th>\n",
              "      <td>-0.210983</td>\n",
              "      <td>0.316154</td>\n",
              "      <td>-0.364941</td>\n",
              "      <td>0.076021</td>\n",
              "      <td>-0.378957</td>\n",
              "      <td>1.000000</td>\n",
              "      <td>-0.134198</td>\n",
              "      <td>-0.506320</td>\n",
              "      <td>-0.177147</td>\n",
              "      <td>-0.104133</td>\n",
              "      <td>-0.307522</td>\n",
              "    </tr>\n",
              "    <tr>\n",
              "      <th>liveness</th>\n",
              "      <td>-0.167995</td>\n",
              "      <td>0.069004</td>\n",
              "      <td>-0.041684</td>\n",
              "      <td>0.023783</td>\n",
              "      <td>0.192801</td>\n",
              "      <td>-0.134198</td>\n",
              "      <td>1.000000</td>\n",
              "      <td>0.045686</td>\n",
              "      <td>0.510147</td>\n",
              "      <td>-0.051355</td>\n",
              "      <td>0.011804</td>\n",
              "    </tr>\n",
              "    <tr>\n",
              "      <th>loudness</th>\n",
              "      <td>0.363011</td>\n",
              "      <td>-0.690202</td>\n",
              "      <td>0.438668</td>\n",
              "      <td>-0.047618</td>\n",
              "      <td>0.816088</td>\n",
              "      <td>-0.506320</td>\n",
              "      <td>0.045686</td>\n",
              "      <td>1.000000</td>\n",
              "      <td>-0.002273</td>\n",
              "      <td>0.228364</td>\n",
              "      <td>0.399901</td>\n",
              "    </tr>\n",
              "    <tr>\n",
              "      <th>speechiness</th>\n",
              "      <td>-0.151076</td>\n",
              "      <td>0.150935</td>\n",
              "      <td>0.134560</td>\n",
              "      <td>-0.016171</td>\n",
              "      <td>0.145120</td>\n",
              "      <td>-0.177147</td>\n",
              "      <td>0.510147</td>\n",
              "      <td>-0.002273</td>\n",
              "      <td>1.000000</td>\n",
              "      <td>-0.081541</td>\n",
              "      <td>0.023842</td>\n",
              "    </tr>\n",
              "    <tr>\n",
              "      <th>tempo</th>\n",
              "      <td>0.081039</td>\n",
              "      <td>-0.238247</td>\n",
              "      <td>0.021939</td>\n",
              "      <td>-0.028456</td>\n",
              "      <td>0.228774</td>\n",
              "      <td>-0.104133</td>\n",
              "      <td>-0.051355</td>\n",
              "      <td>0.228364</td>\n",
              "      <td>-0.081541</td>\n",
              "      <td>1.000000</td>\n",
              "      <td>0.134857</td>\n",
              "    </tr>\n",
              "    <tr>\n",
              "      <th>valence</th>\n",
              "      <td>0.060076</td>\n",
              "      <td>-0.325798</td>\n",
              "      <td>0.547154</td>\n",
              "      <td>-0.141811</td>\n",
              "      <td>0.436771</td>\n",
              "      <td>-0.307522</td>\n",
              "      <td>0.011804</td>\n",
              "      <td>0.399901</td>\n",
              "      <td>0.023842</td>\n",
              "      <td>0.134857</td>\n",
              "      <td>1.000000</td>\n",
              "    </tr>\n",
              "  </tbody>\n",
              "</table>\n",
              "</div>\n",
              "      <button class=\"colab-df-convert\" onclick=\"convertToInteractive('df-c85543b6-8dce-432c-ae08-0384b3eea1dc')\"\n",
              "              title=\"Convert this dataframe to an interactive table.\"\n",
              "              style=\"display:none;\">\n",
              "        \n",
              "  <svg xmlns=\"http://www.w3.org/2000/svg\" height=\"24px\"viewBox=\"0 0 24 24\"\n",
              "       width=\"24px\">\n",
              "    <path d=\"M0 0h24v24H0V0z\" fill=\"none\"/>\n",
              "    <path d=\"M18.56 5.44l.94 2.06.94-2.06 2.06-.94-2.06-.94-.94-2.06-.94 2.06-2.06.94zm-11 1L8.5 8.5l.94-2.06 2.06-.94-2.06-.94L8.5 2.5l-.94 2.06-2.06.94zm10 10l.94 2.06.94-2.06 2.06-.94-2.06-.94-.94-2.06-.94 2.06-2.06.94z\"/><path d=\"M17.41 7.96l-1.37-1.37c-.4-.4-.92-.59-1.43-.59-.52 0-1.04.2-1.43.59L10.3 9.45l-7.72 7.72c-.78.78-.78 2.05 0 2.83L4 21.41c.39.39.9.59 1.41.59.51 0 1.02-.2 1.41-.59l7.78-7.78 2.81-2.81c.8-.78.8-2.07 0-2.86zM5.41 20L4 18.59l7.72-7.72 1.47 1.35L5.41 20z\"/>\n",
              "  </svg>\n",
              "      </button>\n",
              "      \n",
              "  <style>\n",
              "    .colab-df-container {\n",
              "      display:flex;\n",
              "      flex-wrap:wrap;\n",
              "      gap: 12px;\n",
              "    }\n",
              "\n",
              "    .colab-df-convert {\n",
              "      background-color: #E8F0FE;\n",
              "      border: none;\n",
              "      border-radius: 50%;\n",
              "      cursor: pointer;\n",
              "      display: none;\n",
              "      fill: #1967D2;\n",
              "      height: 32px;\n",
              "      padding: 0 0 0 0;\n",
              "      width: 32px;\n",
              "    }\n",
              "\n",
              "    .colab-df-convert:hover {\n",
              "      background-color: #E2EBFA;\n",
              "      box-shadow: 0px 1px 2px rgba(60, 64, 67, 0.3), 0px 1px 3px 1px rgba(60, 64, 67, 0.15);\n",
              "      fill: #174EA6;\n",
              "    }\n",
              "\n",
              "    [theme=dark] .colab-df-convert {\n",
              "      background-color: #3B4455;\n",
              "      fill: #D2E3FC;\n",
              "    }\n",
              "\n",
              "    [theme=dark] .colab-df-convert:hover {\n",
              "      background-color: #434B5C;\n",
              "      box-shadow: 0px 1px 3px 1px rgba(0, 0, 0, 0.15);\n",
              "      filter: drop-shadow(0px 1px 2px rgba(0, 0, 0, 0.3));\n",
              "      fill: #FFFFFF;\n",
              "    }\n",
              "  </style>\n",
              "\n",
              "      <script>\n",
              "        const buttonEl =\n",
              "          document.querySelector('#df-c85543b6-8dce-432c-ae08-0384b3eea1dc button.colab-df-convert');\n",
              "        buttonEl.style.display =\n",
              "          google.colab.kernel.accessAllowed ? 'block' : 'none';\n",
              "\n",
              "        async function convertToInteractive(key) {\n",
              "          const element = document.querySelector('#df-c85543b6-8dce-432c-ae08-0384b3eea1dc');\n",
              "          const dataTable =\n",
              "            await google.colab.kernel.invokeFunction('convertToInteractive',\n",
              "                                                     [key], {});\n",
              "          if (!dataTable) return;\n",
              "\n",
              "          const docLinkHtml = 'Like what you see? Visit the ' +\n",
              "            '<a target=\"_blank\" href=https://colab.research.google.com/notebooks/data_table.ipynb>data table notebook</a>'\n",
              "            + ' to learn more about interactive tables.';\n",
              "          element.innerHTML = '';\n",
              "          dataTable['output_type'] = 'display_data';\n",
              "          await google.colab.output.renderOutput(dataTable, element);\n",
              "          const docLink = document.createElement('div');\n",
              "          docLink.innerHTML = docLinkHtml;\n",
              "          element.appendChild(docLink);\n",
              "        }\n",
              "      </script>\n",
              "    </div>\n",
              "  </div>\n",
              "  "
            ],
            "text/plain": [
              "                  popularity  acousticness  ...     tempo   valence\n",
              "popularity          1.000000     -0.381295  ...  0.081039  0.060076\n",
              "acousticness       -0.381295      1.000000  ... -0.238247 -0.325798\n",
              "danceability        0.256564     -0.364546  ...  0.021939  0.547154\n",
              "duration_ms         0.002348      0.011203  ... -0.028456 -0.141811\n",
              "energy              0.248922     -0.725576  ...  0.228774  0.436771\n",
              "instrumentalness   -0.210983      0.316154  ... -0.104133 -0.307522\n",
              "liveness           -0.167995      0.069004  ... -0.051355  0.011804\n",
              "loudness            0.363011     -0.690202  ...  0.228364  0.399901\n",
              "speechiness        -0.151076      0.150935  ... -0.081541  0.023842\n",
              "tempo               0.081039     -0.238247  ...  1.000000  0.134857\n",
              "valence             0.060076     -0.325798  ...  0.134857  1.000000\n",
              "\n",
              "[11 rows x 11 columns]"
            ]
          },
          "metadata": {},
          "execution_count": 39
        }
      ],
      "source": [
        "dataframe.corr()"
      ]
    },
    {
      "cell_type": "code",
      "execution_count": 40,
      "metadata": {
        "colab": {
          "base_uri": "https://localhost:8080/",
          "height": 313
        },
        "id": "69Q6x6mxukFc",
        "outputId": "b3bc39b8-2f27-4347-d64d-700d9470e4c8"
      },
      "outputs": [
        {
          "output_type": "execute_result",
          "data": {
            "text/plain": [
              "Text(0.5, 1.0, 'Popularidade de Acordo com Notas Musicais')"
            ]
          },
          "metadata": {},
          "execution_count": 40
        },
        {
          "output_type": "display_data",
          "data": {
            "image/png": "[encoded data removed]",
            "text/plain": [
              "<Figure size 432x288 with 1 Axes>"
            ]
          },
          "metadata": {}
        }
      ],
      "source": [
        "sns.barplot(x = 'key', y = 'popularity', data = dataframe)\n",
        "plt.title('Popularidade de Acordo com Notas Musicais')"
      ]
    },
    {
      "cell_type": "code",
      "execution_count": 41,
      "metadata": {
        "colab": {
          "base_uri": "https://localhost:8080/",
          "height": 313
        },
        "id": "LDEyWV-HvJzi",
        "outputId": "f57fed90-b930-44e8-955f-381f1fc07519"
      },
      "outputs": [
        {
          "output_type": "execute_result",
          "data": {
            "text/plain": [
              "Text(0.5, 1.0, 'Popularidade de Acordo com o Acorde')"
            ]
          },
          "metadata": {},
          "execution_count": 41
        },
        {
          "output_type": "display_data",
          "data": {
            "image/png": "[encoded data removed]",
            "text/plain": [
              "<Figure size 432x288 with 1 Axes>"
            ]
          },
          "metadata": {}
        }
      ],
      "source": [
        "sns.barplot(x = 'mode', y = 'popularity', data = dataframe)\n",
        "plt.title('Popularidade de Acordo com o Acorde')"
      ]
    },
    {
      "cell_type": "code",
      "execution_count": 42,
      "metadata": {
        "colab": {
          "base_uri": "https://localhost:8080/",
          "height": 315
        },
        "id": "OqXc7cl5vFqX",
        "outputId": "4f3352ef-71b6-4129-cd99-6979f4db0e05"
      },
      "outputs": [
        {
          "output_type": "execute_result",
          "data": {
            "text/plain": [
              "Text(0.5, 1.0, 'Popularidade de Acordo com o Compasso Musical')"
            ]
          },
          "metadata": {},
          "execution_count": 42
        },
        {
          "output_type": "display_data",
          "data": {
            "image/png": "[encoded data removed]",
            "text/plain": [
              "<Figure size 432x288 with 1 Axes>"
            ]
          },
          "metadata": {}
        }
      ],
      "source": [
        "sns.barplot(x = 'time_signature', y = 'popularity', data = dataframe)\n",
        "plt.title('Popularidade de Acordo com o Compasso Musical')"
      ]
    },
    {
      "cell_type": "markdown",
      "metadata": {
        "id": "vYNcozr2v5er"
      },
      "source": [
        "Acorde e Nota são duas coisas que se relacionam, já que existe B maior e B menor, por exemplo. Portanto, iremos combinar esses dois features em um novo gráfico."
      ]
    },
    {
      "cell_type": "code",
      "execution_count": 43,
      "metadata": {
        "colab": {
          "base_uri": "https://localhost:8080/",
          "height": 313
        },
        "id": "Qau1b30hwOKn",
        "outputId": "72de2db1-4600-488f-fff2-703053446028"
      },
      "outputs": [
        {
          "output_type": "execute_result",
          "data": {
            "text/plain": [
              "Text(0.5, 1.0, 'Popularidade de Acordo com Acorde e Nota')"
            ]
          },
          "metadata": {},
          "execution_count": 43
        },
        {
          "output_type": "display_data",
          "data": {
            "image/png": "[encoded data removed]",
            "text/plain": [
              "<Figure size 432x288 with 1 Axes>"
            ]
          },
          "metadata": {}
        }
      ],
      "source": [
        "sns.barplot(x = 'mode', y = 'popularity', hue = 'key', data = dataframe)\n",
        "plt.title('Popularidade de Acordo com Acorde e Nota')"
      ]
    },
    {
      "cell_type": "code",
      "execution_count": 44,
      "metadata": {
        "colab": {
          "base_uri": "https://localhost:8080/",
          "height": 460
        },
        "id": "GH5YGGb-wcZe",
        "outputId": "10bd3039-a0e3-47e2-81e1-2e7656f4d565"
      },
      "outputs": [
        {
          "output_type": "execute_result",
          "data": {
            "text/plain": [
              "<seaborn.axisgrid.JointGrid at 0x7fac05fba3d0>"
            ]
          },
          "metadata": {},
          "execution_count": 44
        },
        {
          "output_type": "display_data",
          "data": {
            "image/png": "[encoded data removed]",
            "text/plain": [
              "<Figure size 432x432 with 3 Axes>"
            ]
          },
          "metadata": {}
        }
      ],
      "source": [
        "sns.jointplot(x = 'acousticness', y = 'popularity', data = dataframe)"
      ]
    },
    {
      "cell_type": "code",
      "execution_count": 45,
      "metadata": {
        "id": "bOc62bzIwqRC",
        "colab": {
          "base_uri": "https://localhost:8080/",
          "height": 460
        },
        "outputId": "2c77ca2f-d70a-4060-a409-5381628f9bdd"
      },
      "outputs": [
        {
          "output_type": "execute_result",
          "data": {
            "text/plain": [
              "<seaborn.axisgrid.JointGrid at 0x7fac0a121c90>"
            ]
          },
          "metadata": {},
          "execution_count": 45
        },
        {
          "output_type": "display_data",
          "data": {
            "image/png": "[encoded data removed]",
            "text/plain": [
              "<Figure size 432x432 with 3 Axes>"
            ]
          },
          "metadata": {}
        }
      ],
      "source": [
        "sns.jointplot(x = 'loudness', y = 'popularity', data = dataframe)"
      ]
    },
    {
      "cell_type": "code",
      "execution_count": 46,
      "metadata": {
        "colab": {
          "base_uri": "https://localhost:8080/",
          "height": 313
        },
        "id": "TrgeUNfLxC3W",
        "outputId": "fb308dca-ed54-40d2-9a5b-9cc1821574c9"
      },
      "outputs": [
        {
          "output_type": "execute_result",
          "data": {
            "text/plain": [
              "Text(0.5, 1.0, 'Acústica de músicas com Popularidade acima de 50')"
            ]
          },
          "metadata": {},
          "execution_count": 46
        },
        {
          "output_type": "display_data",
          "data": {
            "image/png": "[encoded data removed]",
            "text/plain": [
              "<Figure size 432x288 with 1 Axes>"
            ]
          },
          "metadata": {}
        }
      ],
      "source": [
        "acima_50 = dataframe[dataframe.popularity > 50]\n",
        "sns.distplot(acima_50['acousticness'])\n",
        "plt.title('Acústica de músicas com Popularidade acima de 50')"
      ]
    },
    {
      "cell_type": "code",
      "execution_count": 47,
      "metadata": {
        "colab": {
          "base_uri": "https://localhost:8080/",
          "height": 313
        },
        "id": "W6BiXPIixcg3",
        "outputId": "5a4ed1ac-95d5-499e-f9a8-0567d1aef145"
      },
      "outputs": [
        {
          "output_type": "execute_result",
          "data": {
            "text/plain": [
              "Text(0.5, 1.0, 'Acústica de músicas com Popularidade abaixo de 50')"
            ]
          },
          "metadata": {},
          "execution_count": 47
        },
        {
          "output_type": "display_data",
          "data": {
            "image/png": "[encoded data removed]",
            "text/plain": [
              "<Figure size 432x288 with 1 Axes>"
            ]
          },
          "metadata": {}
        }
      ],
      "source": [
        "abaixo_50 = dataframe[dataframe.popularity < 50]\n",
        "sns.distplot(abaixo_50['acousticness'])\n",
        "plt.title('Acústica de músicas com Popularidade abaixo de 50')"
      ]
    },
    {
      "cell_type": "code",
      "execution_count": 48,
      "metadata": {
        "colab": {
          "base_uri": "https://localhost:8080/",
          "height": 313
        },
        "id": "p-oniWvpxpsA",
        "outputId": "f29acf80-60a9-4e43-eeb8-f5201b5b5cdf"
      },
      "outputs": [
        {
          "output_type": "execute_result",
          "data": {
            "text/plain": [
              "Text(0.5, 1.0, 'Volume de músicas com Popularidade acima de 50')"
            ]
          },
          "metadata": {},
          "execution_count": 48
        },
        {
          "output_type": "display_data",
          "data": {
            "image/png": "[encoded data removed]",
            "text/plain": [
              "<Figure size 432x288 with 1 Axes>"
            ]
          },
          "metadata": {}
        }
      ],
      "source": [
        "sns.distplot(acima_50['loudness'])\n",
        "plt.title('Volume de músicas com Popularidade acima de 50')"
      ]
    },
    {
      "cell_type": "code",
      "execution_count": 49,
      "metadata": {
        "id": "mFL-qzK8x_SY",
        "colab": {
          "base_uri": "https://localhost:8080/",
          "height": 313
        },
        "outputId": "c08ae799-6094-493b-dd55-c437767529f1"
      },
      "outputs": [
        {
          "output_type": "execute_result",
          "data": {
            "text/plain": [
              "Text(0.5, 1.0, 'Volume de músicas com Popularidade abaixo de 50')"
            ]
          },
          "metadata": {},
          "execution_count": 49
        },
        {
          "output_type": "display_data",
          "data": {
            "image/png": "[encoded data removed]",
            "text/plain": [
              "<Figure size 432x288 with 1 Axes>"
            ]
          },
          "metadata": {}
        }
      ],
      "source": [
        "sns.distplot(abaixo_50['loudness'])\n",
        "plt.title('Volume de músicas com Popularidade abaixo de 50')"
      ]
    },
    {
      "cell_type": "markdown",
      "metadata": {
        "id": "ptR5ZJj8yVYt"
      },
      "source": [
        "Pela análise, Volume e Acústica não tem um influência tão forte na popularidade das músicas. "
      ]
    },
    {
      "cell_type": "markdown",
      "source": [
        "# Modificando alguns features"
      ],
      "metadata": {
        "id": "nI4ow3Nc17iG"
      }
    },
    {
      "cell_type": "markdown",
      "source": [
        "As variáveis Key, mode e time signature (nota, acorde e compasso) estão em texto e precisam virar número para que possam ser trabalhadas. Popularity (popularidade) irá ser um número binário, com popularidade acima de 57 sendo músicas populares e abaixo disso sendo não populares. Populares serão 1 e não populares 0."
      ],
      "metadata": {
        "id": "J58BS96t2Qif"
      }
    },
    {
      "cell_type": "markdown",
      "source": [
        "**Notas**: Como existem 12 notas sem distinção de acorde, converteremos A em 0, A# em 1 e assim por diante até que B seja 12."
      ],
      "metadata": {
        "id": "8zS6LsyN4qsF"
      }
    },
    {
      "cell_type": "code",
      "source": [
        "notas_musicais = dataframe['key'].unique()\n",
        "for i in range(len(notas_musicais)):\n",
        "    dataframe.loc[dataframe['key'] == notas_musicais[i], 'key'] = i\n",
        "dataframe.sample(10)"
      ],
      "metadata": {
        "colab": {
          "base_uri": "https://localhost:8080/",
          "height": 600
        },
        "id": "Zkr2wCc14pnz",
        "outputId": "c6263bb7-0758-495c-ffba-51f74961ed4d"
      },
      "execution_count": 50,
      "outputs": [
        {
          "output_type": "execute_result",
          "data": {
            "text/html": [
              "\n",
              "  <div id=\"df-70d359d1-0c17-46f0-b7b6-9b106ed768ad\">\n",
              "    <div class=\"colab-df-container\">\n",
              "      <div>\n",
              "<style scoped>\n",
              "    .dataframe tbody tr th:only-of-type {\n",
              "        vertical-align: middle;\n",
              "    }\n",
              "\n",
              "    .dataframe tbody tr th {\n",
              "        vertical-align: top;\n",
              "    }\n",
              "\n",
              "    .dataframe thead th {\n",
              "        text-align: right;\n",
              "    }\n",
              "</style>\n",
              "<table border=\"1\" class=\"dataframe\">\n",
              "  <thead>\n",
              "    <tr style=\"text-align: right;\">\n",
              "      <th></th>\n",
              "      <th>genre</th>\n",
              "      <th>artist_name</th>\n",
              "      <th>track_name</th>\n",
              "      <th>track_id</th>\n",
              "      <th>popularity</th>\n",
              "      <th>acousticness</th>\n",
              "      <th>danceability</th>\n",
              "      <th>duration_ms</th>\n",
              "      <th>energy</th>\n",
              "      <th>instrumentalness</th>\n",
              "      <th>key</th>\n",
              "      <th>liveness</th>\n",
              "      <th>loudness</th>\n",
              "      <th>mode</th>\n",
              "      <th>speechiness</th>\n",
              "      <th>tempo</th>\n",
              "      <th>time_signature</th>\n",
              "      <th>valence</th>\n",
              "    </tr>\n",
              "  </thead>\n",
              "  <tbody>\n",
              "    <tr>\n",
              "      <th>129252</th>\n",
              "      <td>Classical</td>\n",
              "      <td>Steve Reich</td>\n",
              "      <td>Different Trains: After The War</td>\n",
              "      <td>3EKtHDM9mPtnbsh8de5KEd</td>\n",
              "      <td>26</td>\n",
              "      <td>0.95000</td>\n",
              "      <td>0.322</td>\n",
              "      <td>628573</td>\n",
              "      <td>0.148</td>\n",
              "      <td>0.464000</td>\n",
              "      <td>2</td>\n",
              "      <td>0.1140</td>\n",
              "      <td>-21.468</td>\n",
              "      <td>Minor</td>\n",
              "      <td>0.0675</td>\n",
              "      <td>184.431</td>\n",
              "      <td>4/4</td>\n",
              "      <td>0.480</td>\n",
              "    </tr>\n",
              "    <tr>\n",
              "      <th>67905</th>\n",
              "      <td>Hip-Hop</td>\n",
              "      <td>Drake</td>\n",
              "      <td>Big Rings</td>\n",
              "      <td>7jslhIiELQkgW9IHeYNOWE</td>\n",
              "      <td>64</td>\n",
              "      <td>0.00196</td>\n",
              "      <td>0.776</td>\n",
              "      <td>217707</td>\n",
              "      <td>0.675</td>\n",
              "      <td>0.000000</td>\n",
              "      <td>7</td>\n",
              "      <td>0.2270</td>\n",
              "      <td>-6.224</td>\n",
              "      <td>Minor</td>\n",
              "      <td>0.2660</td>\n",
              "      <td>131.984</td>\n",
              "      <td>4/4</td>\n",
              "      <td>0.271</td>\n",
              "    </tr>\n",
              "    <tr>\n",
              "      <th>51371</th>\n",
              "      <td>Blues</td>\n",
              "      <td>Lee Dorsey</td>\n",
              "      <td>A Lover Was Born</td>\n",
              "      <td>7KtjFntAETV1dTHztkg2ZF</td>\n",
              "      <td>33</td>\n",
              "      <td>0.34600</td>\n",
              "      <td>0.775</td>\n",
              "      <td>174600</td>\n",
              "      <td>0.601</td>\n",
              "      <td>0.001270</td>\n",
              "      <td>9</td>\n",
              "      <td>0.0483</td>\n",
              "      <td>-7.223</td>\n",
              "      <td>Minor</td>\n",
              "      <td>0.0445</td>\n",
              "      <td>93.246</td>\n",
              "      <td>4/4</td>\n",
              "      <td>0.926</td>\n",
              "    </tr>\n",
              "    <tr>\n",
              "      <th>116134</th>\n",
              "      <td>Rap</td>\n",
              "      <td>Bryce Vine</td>\n",
              "      <td>On the Ball</td>\n",
              "      <td>03F0kSuBhDgD2zWlAwkG8x</td>\n",
              "      <td>59</td>\n",
              "      <td>0.12500</td>\n",
              "      <td>0.674</td>\n",
              "      <td>190704</td>\n",
              "      <td>0.740</td>\n",
              "      <td>0.000011</td>\n",
              "      <td>8</td>\n",
              "      <td>0.1920</td>\n",
              "      <td>-5.646</td>\n",
              "      <td>Major</td>\n",
              "      <td>0.0380</td>\n",
              "      <td>145.959</td>\n",
              "      <td>4/4</td>\n",
              "      <td>0.531</td>\n",
              "    </tr>\n",
              "    <tr>\n",
              "      <th>828</th>\n",
              "      <td>Country</td>\n",
              "      <td>Tech N9ne Collabos</td>\n",
              "      <td>Midwest Choppers 2</td>\n",
              "      <td>6y3TijXC2R53WYv1CuOTzt</td>\n",
              "      <td>45</td>\n",
              "      <td>0.18500</td>\n",
              "      <td>0.685</td>\n",
              "      <td>274307</td>\n",
              "      <td>0.939</td>\n",
              "      <td>0.000000</td>\n",
              "      <td>0</td>\n",
              "      <td>0.7710</td>\n",
              "      <td>-2.134</td>\n",
              "      <td>Major</td>\n",
              "      <td>0.1880</td>\n",
              "      <td>139.953</td>\n",
              "      <td>4/4</td>\n",
              "      <td>0.395</td>\n",
              "    </tr>\n",
              "    <tr>\n",
              "      <th>191421</th>\n",
              "      <td>Ska</td>\n",
              "      <td>The Briggs</td>\n",
              "      <td>Let Them Know</td>\n",
              "      <td>5Ovkf18kctvvUH35CGOrVM</td>\n",
              "      <td>16</td>\n",
              "      <td>0.01920</td>\n",
              "      <td>0.367</td>\n",
              "      <td>186187</td>\n",
              "      <td>0.949</td>\n",
              "      <td>0.000000</td>\n",
              "      <td>10</td>\n",
              "      <td>0.3710</td>\n",
              "      <td>-2.610</td>\n",
              "      <td>Major</td>\n",
              "      <td>0.0782</td>\n",
              "      <td>197.746</td>\n",
              "      <td>4/4</td>\n",
              "      <td>0.671</td>\n",
              "    </tr>\n",
              "    <tr>\n",
              "      <th>136872</th>\n",
              "      <td>Reggae</td>\n",
              "      <td>The Hip Abduction</td>\n",
              "      <td>Before We Lose Our Mind - Live</td>\n",
              "      <td>2Let0pA02qDg3bxukfc1VE</td>\n",
              "      <td>22</td>\n",
              "      <td>0.03070</td>\n",
              "      <td>0.605</td>\n",
              "      <td>218947</td>\n",
              "      <td>0.788</td>\n",
              "      <td>0.000166</td>\n",
              "      <td>0</td>\n",
              "      <td>0.5900</td>\n",
              "      <td>-7.130</td>\n",
              "      <td>Minor</td>\n",
              "      <td>0.0377</td>\n",
              "      <td>121.951</td>\n",
              "      <td>4/4</td>\n",
              "      <td>0.596</td>\n",
              "    </tr>\n",
              "    <tr>\n",
              "      <th>103100</th>\n",
              "      <td>Children’s Music</td>\n",
              "      <td>Bear Hands</td>\n",
              "      <td>Back Seat Driver (Spirit Guide)</td>\n",
              "      <td>3shsLlt2L5dyInhG3cewKH</td>\n",
              "      <td>47</td>\n",
              "      <td>0.09690</td>\n",
              "      <td>0.544</td>\n",
              "      <td>229000</td>\n",
              "      <td>0.784</td>\n",
              "      <td>0.001940</td>\n",
              "      <td>2</td>\n",
              "      <td>0.1030</td>\n",
              "      <td>-4.948</td>\n",
              "      <td>Major</td>\n",
              "      <td>0.0445</td>\n",
              "      <td>89.002</td>\n",
              "      <td>4/4</td>\n",
              "      <td>0.433</td>\n",
              "    </tr>\n",
              "    <tr>\n",
              "      <th>90821</th>\n",
              "      <td>Hip-Hop</td>\n",
              "      <td>Atmosphere</td>\n",
              "      <td>Jerome</td>\n",
              "      <td>0EghBAr8QvcCyZG9LuOB6h</td>\n",
              "      <td>47</td>\n",
              "      <td>0.03030</td>\n",
              "      <td>0.686</td>\n",
              "      <td>255773</td>\n",
              "      <td>0.829</td>\n",
              "      <td>0.000254</td>\n",
              "      <td>10</td>\n",
              "      <td>0.1580</td>\n",
              "      <td>-6.804</td>\n",
              "      <td>Major</td>\n",
              "      <td>0.1370</td>\n",
              "      <td>97.531</td>\n",
              "      <td>4/4</td>\n",
              "      <td>0.128</td>\n",
              "    </tr>\n",
              "    <tr>\n",
              "      <th>145739</th>\n",
              "      <td>Jazz</td>\n",
              "      <td>Art Blakey</td>\n",
              "      <td>Moanin'</td>\n",
              "      <td>4Vkk3iD1VrENHJEACNddvt</td>\n",
              "      <td>58</td>\n",
              "      <td>0.80400</td>\n",
              "      <td>0.612</td>\n",
              "      <td>570720</td>\n",
              "      <td>0.493</td>\n",
              "      <td>0.266000</td>\n",
              "      <td>3</td>\n",
              "      <td>0.2020</td>\n",
              "      <td>-8.589</td>\n",
              "      <td>Minor</td>\n",
              "      <td>0.0467</td>\n",
              "      <td>126.358</td>\n",
              "      <td>4/4</td>\n",
              "      <td>0.484</td>\n",
              "    </tr>\n",
              "  </tbody>\n",
              "</table>\n",
              "</div>\n",
              "      <button class=\"colab-df-convert\" onclick=\"convertToInteractive('df-70d359d1-0c17-46f0-b7b6-9b106ed768ad')\"\n",
              "              title=\"Convert this dataframe to an interactive table.\"\n",
              "              style=\"display:none;\">\n",
              "        \n",
              "  <svg xmlns=\"http://www.w3.org/2000/svg\" height=\"24px\"viewBox=\"0 0 24 24\"\n",
              "       width=\"24px\">\n",
              "    <path d=\"M0 0h24v24H0V0z\" fill=\"none\"/>\n",
              "    <path d=\"M18.56 5.44l.94 2.06.94-2.06 2.06-.94-2.06-.94-.94-2.06-.94 2.06-2.06.94zm-11 1L8.5 8.5l.94-2.06 2.06-.94-2.06-.94L8.5 2.5l-.94 2.06-2.06.94zm10 10l.94 2.06.94-2.06 2.06-.94-2.06-.94-.94-2.06-.94 2.06-2.06.94z\"/><path d=\"M17.41 7.96l-1.37-1.37c-.4-.4-.92-.59-1.43-.59-.52 0-1.04.2-1.43.59L10.3 9.45l-7.72 7.72c-.78.78-.78 2.05 0 2.83L4 21.41c.39.39.9.59 1.41.59.51 0 1.02-.2 1.41-.59l7.78-7.78 2.81-2.81c.8-.78.8-2.07 0-2.86zM5.41 20L4 18.59l7.72-7.72 1.47 1.35L5.41 20z\"/>\n",
              "  </svg>\n",
              "      </button>\n",
              "      \n",
              "  <style>\n",
              "    .colab-df-container {\n",
              "      display:flex;\n",
              "      flex-wrap:wrap;\n",
              "      gap: 12px;\n",
              "    }\n",
              "\n",
              "    .colab-df-convert {\n",
              "      background-color: #E8F0FE;\n",
              "      border: none;\n",
              "      border-radius: 50%;\n",
              "      cursor: pointer;\n",
              "      display: none;\n",
              "      fill: #1967D2;\n",
              "      height: 32px;\n",
              "      padding: 0 0 0 0;\n",
              "      width: 32px;\n",
              "    }\n",
              "\n",
              "    .colab-df-convert:hover {\n",
              "      background-color: #E2EBFA;\n",
              "      box-shadow: 0px 1px 2px rgba(60, 64, 67, 0.3), 0px 1px 3px 1px rgba(60, 64, 67, 0.15);\n",
              "      fill: #174EA6;\n",
              "    }\n",
              "\n",
              "    [theme=dark] .colab-df-convert {\n",
              "      background-color: #3B4455;\n",
              "      fill: #D2E3FC;\n",
              "    }\n",
              "\n",
              "    [theme=dark] .colab-df-convert:hover {\n",
              "      background-color: #434B5C;\n",
              "      box-shadow: 0px 1px 3px 1px rgba(0, 0, 0, 0.15);\n",
              "      filter: drop-shadow(0px 1px 2px rgba(0, 0, 0, 0.3));\n",
              "      fill: #FFFFFF;\n",
              "    }\n",
              "  </style>\n",
              "\n",
              "      <script>\n",
              "        const buttonEl =\n",
              "          document.querySelector('#df-70d359d1-0c17-46f0-b7b6-9b106ed768ad button.colab-df-convert');\n",
              "        buttonEl.style.display =\n",
              "          google.colab.kernel.accessAllowed ? 'block' : 'none';\n",
              "\n",
              "        async function convertToInteractive(key) {\n",
              "          const element = document.querySelector('#df-70d359d1-0c17-46f0-b7b6-9b106ed768ad');\n",
              "          const dataTable =\n",
              "            await google.colab.kernel.invokeFunction('convertToInteractive',\n",
              "                                                     [key], {});\n",
              "          if (!dataTable) return;\n",
              "\n",
              "          const docLinkHtml = 'Like what you see? Visit the ' +\n",
              "            '<a target=\"_blank\" href=https://colab.research.google.com/notebooks/data_table.ipynb>data table notebook</a>'\n",
              "            + ' to learn more about interactive tables.';\n",
              "          element.innerHTML = '';\n",
              "          dataTable['output_type'] = 'display_data';\n",
              "          await google.colab.output.renderOutput(dataTable, element);\n",
              "          const docLink = document.createElement('div');\n",
              "          docLink.innerHTML = docLinkHtml;\n",
              "          element.appendChild(docLink);\n",
              "        }\n",
              "      </script>\n",
              "    </div>\n",
              "  </div>\n",
              "  "
            ],
            "text/plain": [
              "                   genre         artist_name  ... time_signature valence\n",
              "129252         Classical         Steve Reich  ...            4/4   0.480\n",
              "67905            Hip-Hop               Drake  ...            4/4   0.271\n",
              "51371              Blues          Lee Dorsey  ...            4/4   0.926\n",
              "116134               Rap          Bryce Vine  ...            4/4   0.531\n",
              "828              Country  Tech N9ne Collabos  ...            4/4   0.395\n",
              "191421               Ska          The Briggs  ...            4/4   0.671\n",
              "136872            Reggae   The Hip Abduction  ...            4/4   0.596\n",
              "103100  Children’s Music          Bear Hands  ...            4/4   0.433\n",
              "90821            Hip-Hop          Atmosphere  ...            4/4   0.128\n",
              "145739              Jazz          Art Blakey  ...            4/4   0.484\n",
              "\n",
              "[10 rows x 18 columns]"
            ]
          },
          "metadata": {},
          "execution_count": 50
        }
      ]
    },
    {
      "cell_type": "markdown",
      "source": [
        "**Acordes**: Maior = 1 e Menor = 0."
      ],
      "metadata": {
        "id": "l8FoFqqF5pvj"
      }
    },
    {
      "cell_type": "code",
      "source": [
        "dataframe.loc[dataframe[\"mode\"] == 'Major', \"mode\"] = 1\n",
        "dataframe.loc[dataframe[\"mode\"] == 'Minor', \"mode\"] = 0\n",
        "dataframe.sample(10)"
      ],
      "metadata": {
        "colab": {
          "base_uri": "https://localhost:8080/",
          "height": 653
        },
        "id": "TT4LthXv5wzq",
        "outputId": "bf165af2-4e89-43ad-bb56-68abef74a1f4"
      },
      "execution_count": 51,
      "outputs": [
        {
          "output_type": "execute_result",
          "data": {
            "text/html": [
              "\n",
              "  <div id=\"df-2851cfaf-5cb5-4c11-8e13-605159a409dc\">\n",
              "    <div class=\"colab-df-container\">\n",
              "      <div>\n",
              "<style scoped>\n",
              "    .dataframe tbody tr th:only-of-type {\n",
              "        vertical-align: middle;\n",
              "    }\n",
              "\n",
              "    .dataframe tbody tr th {\n",
              "        vertical-align: top;\n",
              "    }\n",
              "\n",
              "    .dataframe thead th {\n",
              "        text-align: right;\n",
              "    }\n",
              "</style>\n",
              "<table border=\"1\" class=\"dataframe\">\n",
              "  <thead>\n",
              "    <tr style=\"text-align: right;\">\n",
              "      <th></th>\n",
              "      <th>genre</th>\n",
              "      <th>artist_name</th>\n",
              "      <th>track_name</th>\n",
              "      <th>track_id</th>\n",
              "      <th>popularity</th>\n",
              "      <th>acousticness</th>\n",
              "      <th>danceability</th>\n",
              "      <th>duration_ms</th>\n",
              "      <th>energy</th>\n",
              "      <th>instrumentalness</th>\n",
              "      <th>key</th>\n",
              "      <th>liveness</th>\n",
              "      <th>loudness</th>\n",
              "      <th>mode</th>\n",
              "      <th>speechiness</th>\n",
              "      <th>tempo</th>\n",
              "      <th>time_signature</th>\n",
              "      <th>valence</th>\n",
              "    </tr>\n",
              "  </thead>\n",
              "  <tbody>\n",
              "    <tr>\n",
              "      <th>122729</th>\n",
              "      <td>Reggae</td>\n",
              "      <td>Rebelution</td>\n",
              "      <td>Bump</td>\n",
              "      <td>2FiP4DaoyUI6mcYat1hlM2</td>\n",
              "      <td>47</td>\n",
              "      <td>0.000920</td>\n",
              "      <td>0.708</td>\n",
              "      <td>323440</td>\n",
              "      <td>0.540</td>\n",
              "      <td>0.007710</td>\n",
              "      <td>8</td>\n",
              "      <td>0.0681</td>\n",
              "      <td>-6.829</td>\n",
              "      <td>1</td>\n",
              "      <td>0.0432</td>\n",
              "      <td>150.882</td>\n",
              "      <td>4/4</td>\n",
              "      <td>0.6660</td>\n",
              "    </tr>\n",
              "    <tr>\n",
              "      <th>208315</th>\n",
              "      <td>World</td>\n",
              "      <td>Hillsong UNITED</td>\n",
              "      <td>Captain - Live</td>\n",
              "      <td>2szPIlsbHL8Hy4OHe6TfNE</td>\n",
              "      <td>42</td>\n",
              "      <td>0.555000</td>\n",
              "      <td>0.446</td>\n",
              "      <td>383840</td>\n",
              "      <td>0.314</td>\n",
              "      <td>0.000012</td>\n",
              "      <td>3</td>\n",
              "      <td>0.1370</td>\n",
              "      <td>-12.109</td>\n",
              "      <td>1</td>\n",
              "      <td>0.0348</td>\n",
              "      <td>125.099</td>\n",
              "      <td>3/4</td>\n",
              "      <td>0.1200</td>\n",
              "    </tr>\n",
              "    <tr>\n",
              "      <th>116982</th>\n",
              "      <td>Rap</td>\n",
              "      <td>Kanye West</td>\n",
              "      <td>Barry Bonds</td>\n",
              "      <td>7kXINLuqpicfE1sDCZ3Xwv</td>\n",
              "      <td>54</td>\n",
              "      <td>0.045200</td>\n",
              "      <td>0.475</td>\n",
              "      <td>204307</td>\n",
              "      <td>0.613</td>\n",
              "      <td>0.000000</td>\n",
              "      <td>0</td>\n",
              "      <td>0.2940</td>\n",
              "      <td>-6.217</td>\n",
              "      <td>1</td>\n",
              "      <td>0.3820</td>\n",
              "      <td>166.755</td>\n",
              "      <td>4/4</td>\n",
              "      <td>0.7180</td>\n",
              "    </tr>\n",
              "    <tr>\n",
              "      <th>153658</th>\n",
              "      <td>Rock</td>\n",
              "      <td>Vance Joy</td>\n",
              "      <td>Alone With Me</td>\n",
              "      <td>3BWlLiQSXXxy3OpL59k7lN</td>\n",
              "      <td>57</td>\n",
              "      <td>0.108000</td>\n",
              "      <td>0.625</td>\n",
              "      <td>266627</td>\n",
              "      <td>0.527</td>\n",
              "      <td>0.002910</td>\n",
              "      <td>0</td>\n",
              "      <td>0.1060</td>\n",
              "      <td>-6.449</td>\n",
              "      <td>0</td>\n",
              "      <td>0.0331</td>\n",
              "      <td>141.963</td>\n",
              "      <td>4/4</td>\n",
              "      <td>0.0477</td>\n",
              "    </tr>\n",
              "    <tr>\n",
              "      <th>10048</th>\n",
              "      <td>Alternative</td>\n",
              "      <td>Cautious Clay</td>\n",
              "      <td>SETTLER'S PARADISE</td>\n",
              "      <td>5zmGr8hRQ6W9arZy9e07GL</td>\n",
              "      <td>47</td>\n",
              "      <td>0.561000</td>\n",
              "      <td>0.657</td>\n",
              "      <td>175366</td>\n",
              "      <td>0.599</td>\n",
              "      <td>0.000005</td>\n",
              "      <td>3</td>\n",
              "      <td>0.1310</td>\n",
              "      <td>-8.060</td>\n",
              "      <td>0</td>\n",
              "      <td>0.0516</td>\n",
              "      <td>132.103</td>\n",
              "      <td>4/4</td>\n",
              "      <td>0.5960</td>\n",
              "    </tr>\n",
              "    <tr>\n",
              "      <th>35375</th>\n",
              "      <td>Anime</td>\n",
              "      <td>Capcom Sound Team</td>\n",
              "      <td>GET A WEAPON / BOSS ATTACK RESULT</td>\n",
              "      <td>4SpRG3VCmBPQFwhUKvxK4y</td>\n",
              "      <td>12</td>\n",
              "      <td>0.000606</td>\n",
              "      <td>0.506</td>\n",
              "      <td>39480</td>\n",
              "      <td>0.784</td>\n",
              "      <td>0.801000</td>\n",
              "      <td>11</td>\n",
              "      <td>0.3270</td>\n",
              "      <td>-8.722</td>\n",
              "      <td>0</td>\n",
              "      <td>0.0456</td>\n",
              "      <td>149.662</td>\n",
              "      <td>4/4</td>\n",
              "      <td>0.9440</td>\n",
              "    </tr>\n",
              "    <tr>\n",
              "      <th>136223</th>\n",
              "      <td>Reggae</td>\n",
              "      <td>Vybz Kartel</td>\n",
              "      <td>Hey Addi</td>\n",
              "      <td>6cYlMnv5130dEozyH1PJ0c</td>\n",
              "      <td>30</td>\n",
              "      <td>0.151000</td>\n",
              "      <td>0.668</td>\n",
              "      <td>164000</td>\n",
              "      <td>0.644</td>\n",
              "      <td>0.000000</td>\n",
              "      <td>4</td>\n",
              "      <td>0.4720</td>\n",
              "      <td>-6.601</td>\n",
              "      <td>1</td>\n",
              "      <td>0.4410</td>\n",
              "      <td>91.136</td>\n",
              "      <td>4/4</td>\n",
              "      <td>0.8470</td>\n",
              "    </tr>\n",
              "    <tr>\n",
              "      <th>155178</th>\n",
              "      <td>Rock</td>\n",
              "      <td>Yoke Lore</td>\n",
              "      <td>Beige (unburdened)</td>\n",
              "      <td>5dJvISvgxPCxmMPIq5WNhv</td>\n",
              "      <td>46</td>\n",
              "      <td>0.826000</td>\n",
              "      <td>0.377</td>\n",
              "      <td>196493</td>\n",
              "      <td>0.296</td>\n",
              "      <td>0.000010</td>\n",
              "      <td>9</td>\n",
              "      <td>0.0930</td>\n",
              "      <td>-9.815</td>\n",
              "      <td>1</td>\n",
              "      <td>0.0902</td>\n",
              "      <td>80.130</td>\n",
              "      <td>4/4</td>\n",
              "      <td>0.2430</td>\n",
              "    </tr>\n",
              "    <tr>\n",
              "      <th>211084</th>\n",
              "      <td>World</td>\n",
              "      <td>Capital City Music</td>\n",
              "      <td>O Praise the Name (Anastasis) [feat. Jacob Can...</td>\n",
              "      <td>2zSS5MPDIUQdcvZcc1JCXG</td>\n",
              "      <td>30</td>\n",
              "      <td>0.317000</td>\n",
              "      <td>0.347</td>\n",
              "      <td>325395</td>\n",
              "      <td>0.460</td>\n",
              "      <td>0.000002</td>\n",
              "      <td>2</td>\n",
              "      <td>0.4540</td>\n",
              "      <td>-8.042</td>\n",
              "      <td>1</td>\n",
              "      <td>0.0320</td>\n",
              "      <td>144.657</td>\n",
              "      <td>4/4</td>\n",
              "      <td>0.0851</td>\n",
              "    </tr>\n",
              "    <tr>\n",
              "      <th>92107</th>\n",
              "      <td>Hip-Hop</td>\n",
              "      <td>CeeLo Green</td>\n",
              "      <td>Bright Lights Bigger City</td>\n",
              "      <td>2zT5npcA5n2RhhnBiWg3zo</td>\n",
              "      <td>47</td>\n",
              "      <td>0.000282</td>\n",
              "      <td>0.632</td>\n",
              "      <td>218280</td>\n",
              "      <td>0.749</td>\n",
              "      <td>0.000013</td>\n",
              "      <td>5</td>\n",
              "      <td>0.7300</td>\n",
              "      <td>-5.125</td>\n",
              "      <td>1</td>\n",
              "      <td>0.0294</td>\n",
              "      <td>108.994</td>\n",
              "      <td>4/4</td>\n",
              "      <td>0.7020</td>\n",
              "    </tr>\n",
              "  </tbody>\n",
              "</table>\n",
              "</div>\n",
              "      <button class=\"colab-df-convert\" onclick=\"convertToInteractive('df-2851cfaf-5cb5-4c11-8e13-605159a409dc')\"\n",
              "              title=\"Convert this dataframe to an interactive table.\"\n",
              "              style=\"display:none;\">\n",
              "        \n",
              "  <svg xmlns=\"http://www.w3.org/2000/svg\" height=\"24px\"viewBox=\"0 0 24 24\"\n",
              "       width=\"24px\">\n",
              "    <path d=\"M0 0h24v24H0V0z\" fill=\"none\"/>\n",
              "    <path d=\"M18.56 5.44l.94 2.06.94-2.06 2.06-.94-2.06-.94-.94-2.06-.94 2.06-2.06.94zm-11 1L8.5 8.5l.94-2.06 2.06-.94-2.06-.94L8.5 2.5l-.94 2.06-2.06.94zm10 10l.94 2.06.94-2.06 2.06-.94-2.06-.94-.94-2.06-.94 2.06-2.06.94z\"/><path d=\"M17.41 7.96l-1.37-1.37c-.4-.4-.92-.59-1.43-.59-.52 0-1.04.2-1.43.59L10.3 9.45l-7.72 7.72c-.78.78-.78 2.05 0 2.83L4 21.41c.39.39.9.59 1.41.59.51 0 1.02-.2 1.41-.59l7.78-7.78 2.81-2.81c.8-.78.8-2.07 0-2.86zM5.41 20L4 18.59l7.72-7.72 1.47 1.35L5.41 20z\"/>\n",
              "  </svg>\n",
              "      </button>\n",
              "      \n",
              "  <style>\n",
              "    .colab-df-container {\n",
              "      display:flex;\n",
              "      flex-wrap:wrap;\n",
              "      gap: 12px;\n",
              "    }\n",
              "\n",
              "    .colab-df-convert {\n",
              "      background-color: #E8F0FE;\n",
              "      border: none;\n",
              "      border-radius: 50%;\n",
              "      cursor: pointer;\n",
              "      display: none;\n",
              "      fill: #1967D2;\n",
              "      height: 32px;\n",
              "      padding: 0 0 0 0;\n",
              "      width: 32px;\n",
              "    }\n",
              "\n",
              "    .colab-df-convert:hover {\n",
              "      background-color: #E2EBFA;\n",
              "      box-shadow: 0px 1px 2px rgba(60, 64, 67, 0.3), 0px 1px 3px 1px rgba(60, 64, 67, 0.15);\n",
              "      fill: #174EA6;\n",
              "    }\n",
              "\n",
              "    [theme=dark] .colab-df-convert {\n",
              "      background-color: #3B4455;\n",
              "      fill: #D2E3FC;\n",
              "    }\n",
              "\n",
              "    [theme=dark] .colab-df-convert:hover {\n",
              "      background-color: #434B5C;\n",
              "      box-shadow: 0px 1px 3px 1px rgba(0, 0, 0, 0.15);\n",
              "      filter: drop-shadow(0px 1px 2px rgba(0, 0, 0, 0.3));\n",
              "      fill: #FFFFFF;\n",
              "    }\n",
              "  </style>\n",
              "\n",
              "      <script>\n",
              "        const buttonEl =\n",
              "          document.querySelector('#df-2851cfaf-5cb5-4c11-8e13-605159a409dc button.colab-df-convert');\n",
              "        buttonEl.style.display =\n",
              "          google.colab.kernel.accessAllowed ? 'block' : 'none';\n",
              "\n",
              "        async function convertToInteractive(key) {\n",
              "          const element = document.querySelector('#df-2851cfaf-5cb5-4c11-8e13-605159a409dc');\n",
              "          const dataTable =\n",
              "            await google.colab.kernel.invokeFunction('convertToInteractive',\n",
              "                                                     [key], {});\n",
              "          if (!dataTable) return;\n",
              "\n",
              "          const docLinkHtml = 'Like what you see? Visit the ' +\n",
              "            '<a target=\"_blank\" href=https://colab.research.google.com/notebooks/data_table.ipynb>data table notebook</a>'\n",
              "            + ' to learn more about interactive tables.';\n",
              "          element.innerHTML = '';\n",
              "          dataTable['output_type'] = 'display_data';\n",
              "          await google.colab.output.renderOutput(dataTable, element);\n",
              "          const docLink = document.createElement('div');\n",
              "          docLink.innerHTML = docLinkHtml;\n",
              "          element.appendChild(docLink);\n",
              "        }\n",
              "      </script>\n",
              "    </div>\n",
              "  </div>\n",
              "  "
            ],
            "text/plain": [
              "              genre         artist_name  ... time_signature valence\n",
              "122729       Reggae          Rebelution  ...            4/4  0.6660\n",
              "208315        World     Hillsong UNITED  ...            3/4  0.1200\n",
              "116982          Rap          Kanye West  ...            4/4  0.7180\n",
              "153658         Rock           Vance Joy  ...            4/4  0.0477\n",
              "10048   Alternative       Cautious Clay  ...            4/4  0.5960\n",
              "35375         Anime   Capcom Sound Team  ...            4/4  0.9440\n",
              "136223       Reggae         Vybz Kartel  ...            4/4  0.8470\n",
              "155178         Rock           Yoke Lore  ...            4/4  0.2430\n",
              "211084        World  Capital City Music  ...            4/4  0.0851\n",
              "92107       Hip-Hop         CeeLo Green  ...            4/4  0.7020\n",
              "\n",
              "[10 rows x 18 columns]"
            ]
          },
          "metadata": {},
          "execution_count": 51
        }
      ]
    },
    {
      "cell_type": "code",
      "source": [
        "compassos = dataframe['time_signature'].unique()\n",
        "for i in range(len(compassos)):\n",
        "    dataframe.loc[dataframe['time_signature'] == compassos[i], 'time_signature'] = i\n",
        "dataframe.sample(5)"
      ],
      "metadata": {
        "colab": {
          "base_uri": "https://localhost:8080/",
          "height": 357
        },
        "id": "BNqkE2cS6AJ1",
        "outputId": "2d6bd18b-db59-4d8e-f461-dc29bb4c2d98"
      },
      "execution_count": 52,
      "outputs": [
        {
          "output_type": "execute_result",
          "data": {
            "text/html": [
              "\n",
              "  <div id=\"df-d81a8276-79c7-43d6-a077-7935b3c2c9f3\">\n",
              "    <div class=\"colab-df-container\">\n",
              "      <div>\n",
              "<style scoped>\n",
              "    .dataframe tbody tr th:only-of-type {\n",
              "        vertical-align: middle;\n",
              "    }\n",
              "\n",
              "    .dataframe tbody tr th {\n",
              "        vertical-align: top;\n",
              "    }\n",
              "\n",
              "    .dataframe thead th {\n",
              "        text-align: right;\n",
              "    }\n",
              "</style>\n",
              "<table border=\"1\" class=\"dataframe\">\n",
              "  <thead>\n",
              "    <tr style=\"text-align: right;\">\n",
              "      <th></th>\n",
              "      <th>genre</th>\n",
              "      <th>artist_name</th>\n",
              "      <th>track_name</th>\n",
              "      <th>track_id</th>\n",
              "      <th>popularity</th>\n",
              "      <th>acousticness</th>\n",
              "      <th>danceability</th>\n",
              "      <th>duration_ms</th>\n",
              "      <th>energy</th>\n",
              "      <th>instrumentalness</th>\n",
              "      <th>key</th>\n",
              "      <th>liveness</th>\n",
              "      <th>loudness</th>\n",
              "      <th>mode</th>\n",
              "      <th>speechiness</th>\n",
              "      <th>tempo</th>\n",
              "      <th>time_signature</th>\n",
              "      <th>valence</th>\n",
              "    </tr>\n",
              "  </thead>\n",
              "  <tbody>\n",
              "    <tr>\n",
              "      <th>133948</th>\n",
              "      <td>Reggae</td>\n",
              "      <td>Bunny Wailer</td>\n",
              "      <td>Blackheart Man</td>\n",
              "      <td>6xIJylzwCbqP7hy0ekZz2d</td>\n",
              "      <td>34</td>\n",
              "      <td>0.7200</td>\n",
              "      <td>0.786</td>\n",
              "      <td>377267</td>\n",
              "      <td>0.451</td>\n",
              "      <td>0.075000</td>\n",
              "      <td>8</td>\n",
              "      <td>0.1550</td>\n",
              "      <td>-13.090</td>\n",
              "      <td>1</td>\n",
              "      <td>0.3520</td>\n",
              "      <td>148.888</td>\n",
              "      <td>0</td>\n",
              "      <td>0.8530</td>\n",
              "    </tr>\n",
              "    <tr>\n",
              "      <th>201999</th>\n",
              "      <td>Soundtrack</td>\n",
              "      <td>Junkie XL</td>\n",
              "      <td>Escape</td>\n",
              "      <td>6SoSCS4Jk3Do17eaiVkQCP</td>\n",
              "      <td>34</td>\n",
              "      <td>0.0581</td>\n",
              "      <td>0.140</td>\n",
              "      <td>134229</td>\n",
              "      <td>0.628</td>\n",
              "      <td>0.847000</td>\n",
              "      <td>0</td>\n",
              "      <td>0.1080</td>\n",
              "      <td>-11.759</td>\n",
              "      <td>1</td>\n",
              "      <td>0.0800</td>\n",
              "      <td>93.911</td>\n",
              "      <td>2</td>\n",
              "      <td>0.0656</td>\n",
              "    </tr>\n",
              "    <tr>\n",
              "      <th>178160</th>\n",
              "      <td>Jazz</td>\n",
              "      <td>Thelonious Monk</td>\n",
              "      <td>Smoke Gets In Your Eyes</td>\n",
              "      <td>62PG5q6b8NAKeXtHljoM5V</td>\n",
              "      <td>32</td>\n",
              "      <td>0.9910</td>\n",
              "      <td>0.503</td>\n",
              "      <td>203333</td>\n",
              "      <td>0.159</td>\n",
              "      <td>0.884000</td>\n",
              "      <td>7</td>\n",
              "      <td>0.1600</td>\n",
              "      <td>-15.500</td>\n",
              "      <td>1</td>\n",
              "      <td>0.0509</td>\n",
              "      <td>79.095</td>\n",
              "      <td>0</td>\n",
              "      <td>0.5130</td>\n",
              "    </tr>\n",
              "    <tr>\n",
              "      <th>109856</th>\n",
              "      <td>Pop</td>\n",
              "      <td>Twenty One Pilots</td>\n",
              "      <td>Lane Boy</td>\n",
              "      <td>2P61EK6DMGyVyssLWS4fKy</td>\n",
              "      <td>73</td>\n",
              "      <td>0.0573</td>\n",
              "      <td>0.616</td>\n",
              "      <td>253093</td>\n",
              "      <td>0.811</td>\n",
              "      <td>0.000016</td>\n",
              "      <td>4</td>\n",
              "      <td>0.0566</td>\n",
              "      <td>-4.804</td>\n",
              "      <td>1</td>\n",
              "      <td>0.0626</td>\n",
              "      <td>159.929</td>\n",
              "      <td>0</td>\n",
              "      <td>0.9130</td>\n",
              "    </tr>\n",
              "    <tr>\n",
              "      <th>140849</th>\n",
              "      <td>Indie</td>\n",
              "      <td>The Avett Brothers</td>\n",
              "      <td>Paranoia in B Major</td>\n",
              "      <td>3G87VjDnNPFBN0m97qYIea</td>\n",
              "      <td>49</td>\n",
              "      <td>0.2320</td>\n",
              "      <td>0.540</td>\n",
              "      <td>217840</td>\n",
              "      <td>0.556</td>\n",
              "      <td>0.000008</td>\n",
              "      <td>9</td>\n",
              "      <td>0.1430</td>\n",
              "      <td>-6.822</td>\n",
              "      <td>1</td>\n",
              "      <td>0.0423</td>\n",
              "      <td>123.361</td>\n",
              "      <td>0</td>\n",
              "      <td>0.3860</td>\n",
              "    </tr>\n",
              "  </tbody>\n",
              "</table>\n",
              "</div>\n",
              "      <button class=\"colab-df-convert\" onclick=\"convertToInteractive('df-d81a8276-79c7-43d6-a077-7935b3c2c9f3')\"\n",
              "              title=\"Convert this dataframe to an interactive table.\"\n",
              "              style=\"display:none;\">\n",
              "        \n",
              "  <svg xmlns=\"http://www.w3.org/2000/svg\" height=\"24px\"viewBox=\"0 0 24 24\"\n",
              "       width=\"24px\">\n",
              "    <path d=\"M0 0h24v24H0V0z\" fill=\"none\"/>\n",
              "    <path d=\"M18.56 5.44l.94 2.06.94-2.06 2.06-.94-2.06-.94-.94-2.06-.94 2.06-2.06.94zm-11 1L8.5 8.5l.94-2.06 2.06-.94-2.06-.94L8.5 2.5l-.94 2.06-2.06.94zm10 10l.94 2.06.94-2.06 2.06-.94-2.06-.94-.94-2.06-.94 2.06-2.06.94z\"/><path d=\"M17.41 7.96l-1.37-1.37c-.4-.4-.92-.59-1.43-.59-.52 0-1.04.2-1.43.59L10.3 9.45l-7.72 7.72c-.78.78-.78 2.05 0 2.83L4 21.41c.39.39.9.59 1.41.59.51 0 1.02-.2 1.41-.59l7.78-7.78 2.81-2.81c.8-.78.8-2.07 0-2.86zM5.41 20L4 18.59l7.72-7.72 1.47 1.35L5.41 20z\"/>\n",
              "  </svg>\n",
              "      </button>\n",
              "      \n",
              "  <style>\n",
              "    .colab-df-container {\n",
              "      display:flex;\n",
              "      flex-wrap:wrap;\n",
              "      gap: 12px;\n",
              "    }\n",
              "\n",
              "    .colab-df-convert {\n",
              "      background-color: #E8F0FE;\n",
              "      border: none;\n",
              "      border-radius: 50%;\n",
              "      cursor: pointer;\n",
              "      display: none;\n",
              "      fill: #1967D2;\n",
              "      height: 32px;\n",
              "      padding: 0 0 0 0;\n",
              "      width: 32px;\n",
              "    }\n",
              "\n",
              "    .colab-df-convert:hover {\n",
              "      background-color: #E2EBFA;\n",
              "      box-shadow: 0px 1px 2px rgba(60, 64, 67, 0.3), 0px 1px 3px 1px rgba(60, 64, 67, 0.15);\n",
              "      fill: #174EA6;\n",
              "    }\n",
              "\n",
              "    [theme=dark] .colab-df-convert {\n",
              "      background-color: #3B4455;\n",
              "      fill: #D2E3FC;\n",
              "    }\n",
              "\n",
              "    [theme=dark] .colab-df-convert:hover {\n",
              "      background-color: #434B5C;\n",
              "      box-shadow: 0px 1px 3px 1px rgba(0, 0, 0, 0.15);\n",
              "      filter: drop-shadow(0px 1px 2px rgba(0, 0, 0, 0.3));\n",
              "      fill: #FFFFFF;\n",
              "    }\n",
              "  </style>\n",
              "\n",
              "      <script>\n",
              "        const buttonEl =\n",
              "          document.querySelector('#df-d81a8276-79c7-43d6-a077-7935b3c2c9f3 button.colab-df-convert');\n",
              "        buttonEl.style.display =\n",
              "          google.colab.kernel.accessAllowed ? 'block' : 'none';\n",
              "\n",
              "        async function convertToInteractive(key) {\n",
              "          const element = document.querySelector('#df-d81a8276-79c7-43d6-a077-7935b3c2c9f3');\n",
              "          const dataTable =\n",
              "            await google.colab.kernel.invokeFunction('convertToInteractive',\n",
              "                                                     [key], {});\n",
              "          if (!dataTable) return;\n",
              "\n",
              "          const docLinkHtml = 'Like what you see? Visit the ' +\n",
              "            '<a target=\"_blank\" href=https://colab.research.google.com/notebooks/data_table.ipynb>data table notebook</a>'\n",
              "            + ' to learn more about interactive tables.';\n",
              "          element.innerHTML = '';\n",
              "          dataTable['output_type'] = 'display_data';\n",
              "          await google.colab.output.renderOutput(dataTable, element);\n",
              "          const docLink = document.createElement('div');\n",
              "          docLink.innerHTML = docLinkHtml;\n",
              "          element.appendChild(docLink);\n",
              "        }\n",
              "      </script>\n",
              "    </div>\n",
              "  </div>\n",
              "  "
            ],
            "text/plain": [
              "             genre         artist_name  ... time_signature valence\n",
              "133948      Reggae        Bunny Wailer  ...              0  0.8530\n",
              "201999  Soundtrack           Junkie XL  ...              2  0.0656\n",
              "178160        Jazz     Thelonious Monk  ...              0  0.5130\n",
              "109856         Pop   Twenty One Pilots  ...              0  0.9130\n",
              "140849       Indie  The Avett Brothers  ...              0  0.3860\n",
              "\n",
              "[5 rows x 18 columns]"
            ]
          },
          "metadata": {},
          "execution_count": 52
        }
      ]
    },
    {
      "cell_type": "markdown",
      "source": [
        "**Popularidade**"
      ],
      "metadata": {
        "id": "vizR7Udx6USs"
      }
    },
    {
      "cell_type": "code",
      "source": [
        "dataframe.loc[dataframe['popularity'] < 57, 'popularity'] = 0 \n",
        "dataframe.loc[dataframe['popularity'] >= 57, 'popularity'] = 1\n",
        "dataframe.loc[dataframe['popularity'] == 1]"
      ],
      "metadata": {
        "colab": {
          "base_uri": "https://localhost:8080/",
          "height": 852
        },
        "id": "9Zg63fXn6Zej",
        "outputId": "eddabedc-3dc6-4031-9462-f4a31fd183cc"
      },
      "execution_count": 53,
      "outputs": [
        {
          "output_type": "execute_result",
          "data": {
            "text/html": [
              "\n",
              "  <div id=\"df-9dc49e59-9e90-4162-8bd1-de42b7ad5f76\">\n",
              "    <div class=\"colab-df-container\">\n",
              "      <div>\n",
              "<style scoped>\n",
              "    .dataframe tbody tr th:only-of-type {\n",
              "        vertical-align: middle;\n",
              "    }\n",
              "\n",
              "    .dataframe tbody tr th {\n",
              "        vertical-align: top;\n",
              "    }\n",
              "\n",
              "    .dataframe thead th {\n",
              "        text-align: right;\n",
              "    }\n",
              "</style>\n",
              "<table border=\"1\" class=\"dataframe\">\n",
              "  <thead>\n",
              "    <tr style=\"text-align: right;\">\n",
              "      <th></th>\n",
              "      <th>genre</th>\n",
              "      <th>artist_name</th>\n",
              "      <th>track_name</th>\n",
              "      <th>track_id</th>\n",
              "      <th>popularity</th>\n",
              "      <th>acousticness</th>\n",
              "      <th>danceability</th>\n",
              "      <th>duration_ms</th>\n",
              "      <th>energy</th>\n",
              "      <th>instrumentalness</th>\n",
              "      <th>key</th>\n",
              "      <th>liveness</th>\n",
              "      <th>loudness</th>\n",
              "      <th>mode</th>\n",
              "      <th>speechiness</th>\n",
              "      <th>tempo</th>\n",
              "      <th>time_signature</th>\n",
              "      <th>valence</th>\n",
              "    </tr>\n",
              "  </thead>\n",
              "  <tbody>\n",
              "    <tr>\n",
              "      <th>135</th>\n",
              "      <td>R&amp;B</td>\n",
              "      <td>Mary J. Blige</td>\n",
              "      <td>Be Without You - Kendu Mix</td>\n",
              "      <td>2YegxR5As7BeQuVp2U6pek</td>\n",
              "      <td>1</td>\n",
              "      <td>0.08300</td>\n",
              "      <td>0.724</td>\n",
              "      <td>246333</td>\n",
              "      <td>0.689</td>\n",
              "      <td>0.000000</td>\n",
              "      <td>8</td>\n",
              "      <td>0.3040</td>\n",
              "      <td>-5.922</td>\n",
              "      <td>0</td>\n",
              "      <td>0.1350</td>\n",
              "      <td>146.496</td>\n",
              "      <td>0</td>\n",
              "      <td>0.6930</td>\n",
              "    </tr>\n",
              "    <tr>\n",
              "      <th>136</th>\n",
              "      <td>R&amp;B</td>\n",
              "      <td>Rihanna</td>\n",
              "      <td>Desperado</td>\n",
              "      <td>6KFaHC9G178beAp7P0Vi5S</td>\n",
              "      <td>1</td>\n",
              "      <td>0.32300</td>\n",
              "      <td>0.685</td>\n",
              "      <td>186467</td>\n",
              "      <td>0.610</td>\n",
              "      <td>0.000000</td>\n",
              "      <td>2</td>\n",
              "      <td>0.1020</td>\n",
              "      <td>-5.221</td>\n",
              "      <td>0</td>\n",
              "      <td>0.0439</td>\n",
              "      <td>94.384</td>\n",
              "      <td>2</td>\n",
              "      <td>0.3230</td>\n",
              "    </tr>\n",
              "    <tr>\n",
              "      <th>137</th>\n",
              "      <td>R&amp;B</td>\n",
              "      <td>Yung Bleu</td>\n",
              "      <td>Ice On My Baby (feat. Kevin Gates) - Remix</td>\n",
              "      <td>6muW8cSjJ3rusKJ0vH5olw</td>\n",
              "      <td>1</td>\n",
              "      <td>0.06750</td>\n",
              "      <td>0.762</td>\n",
              "      <td>199520</td>\n",
              "      <td>0.520</td>\n",
              "      <td>0.000004</td>\n",
              "      <td>3</td>\n",
              "      <td>0.1140</td>\n",
              "      <td>-5.237</td>\n",
              "      <td>0</td>\n",
              "      <td>0.0959</td>\n",
              "      <td>75.047</td>\n",
              "      <td>0</td>\n",
              "      <td>0.0862</td>\n",
              "    </tr>\n",
              "    <tr>\n",
              "      <th>138</th>\n",
              "      <td>R&amp;B</td>\n",
              "      <td>Surfaces</td>\n",
              "      <td>Heaven Falls / Fall on Me</td>\n",
              "      <td>7yHqOZfsXYlicyoMt62yC6</td>\n",
              "      <td>1</td>\n",
              "      <td>0.36000</td>\n",
              "      <td>0.563</td>\n",
              "      <td>240597</td>\n",
              "      <td>0.366</td>\n",
              "      <td>0.002430</td>\n",
              "      <td>11</td>\n",
              "      <td>0.0955</td>\n",
              "      <td>-6.896</td>\n",
              "      <td>0</td>\n",
              "      <td>0.1210</td>\n",
              "      <td>85.352</td>\n",
              "      <td>0</td>\n",
              "      <td>0.7680</td>\n",
              "    </tr>\n",
              "    <tr>\n",
              "      <th>139</th>\n",
              "      <td>R&amp;B</td>\n",
              "      <td>Olivia O'Brien</td>\n",
              "      <td>Love Myself</td>\n",
              "      <td>4XzgjxGKqULifVf7mnDIQK</td>\n",
              "      <td>1</td>\n",
              "      <td>0.59600</td>\n",
              "      <td>0.653</td>\n",
              "      <td>213947</td>\n",
              "      <td>0.621</td>\n",
              "      <td>0.000000</td>\n",
              "      <td>11</td>\n",
              "      <td>0.0811</td>\n",
              "      <td>-5.721</td>\n",
              "      <td>0</td>\n",
              "      <td>0.0409</td>\n",
              "      <td>100.006</td>\n",
              "      <td>0</td>\n",
              "      <td>0.4660</td>\n",
              "    </tr>\n",
              "    <tr>\n",
              "      <th>...</th>\n",
              "      <td>...</td>\n",
              "      <td>...</td>\n",
              "      <td>...</td>\n",
              "      <td>...</td>\n",
              "      <td>...</td>\n",
              "      <td>...</td>\n",
              "      <td>...</td>\n",
              "      <td>...</td>\n",
              "      <td>...</td>\n",
              "      <td>...</td>\n",
              "      <td>...</td>\n",
              "      <td>...</td>\n",
              "      <td>...</td>\n",
              "      <td>...</td>\n",
              "      <td>...</td>\n",
              "      <td>...</td>\n",
              "      <td>...</td>\n",
              "      <td>...</td>\n",
              "    </tr>\n",
              "    <tr>\n",
              "      <th>230312</th>\n",
              "      <td>Soul</td>\n",
              "      <td>James Brown</td>\n",
              "      <td>Get Up (I Feel Like Being A) Sex Machine - Pts...</td>\n",
              "      <td>6hpmTwgNCz81H2bFEREx29</td>\n",
              "      <td>1</td>\n",
              "      <td>0.27300</td>\n",
              "      <td>0.833</td>\n",
              "      <td>318800</td>\n",
              "      <td>0.661</td>\n",
              "      <td>0.000149</td>\n",
              "      <td>9</td>\n",
              "      <td>0.2940</td>\n",
              "      <td>-7.595</td>\n",
              "      <td>0</td>\n",
              "      <td>0.1010</td>\n",
              "      <td>108.314</td>\n",
              "      <td>0</td>\n",
              "      <td>0.8580</td>\n",
              "    </tr>\n",
              "    <tr>\n",
              "      <th>230782</th>\n",
              "      <td>Soul</td>\n",
              "      <td>Alex Hepburn</td>\n",
              "      <td>If You Stay</td>\n",
              "      <td>4sJoIeb8zWYCLHSLM0az3b</td>\n",
              "      <td>1</td>\n",
              "      <td>0.04530</td>\n",
              "      <td>0.719</td>\n",
              "      <td>194554</td>\n",
              "      <td>0.702</td>\n",
              "      <td>0.000013</td>\n",
              "      <td>11</td>\n",
              "      <td>0.0662</td>\n",
              "      <td>-4.577</td>\n",
              "      <td>1</td>\n",
              "      <td>0.0357</td>\n",
              "      <td>116.938</td>\n",
              "      <td>0</td>\n",
              "      <td>0.6130</td>\n",
              "    </tr>\n",
              "    <tr>\n",
              "      <th>230817</th>\n",
              "      <td>Soul</td>\n",
              "      <td>Paloma Faith</td>\n",
              "      <td>Make Your Own Kind of Music</td>\n",
              "      <td>5jsFFhABp2FkasGr4QcQd6</td>\n",
              "      <td>1</td>\n",
              "      <td>0.00862</td>\n",
              "      <td>0.567</td>\n",
              "      <td>163840</td>\n",
              "      <td>0.753</td>\n",
              "      <td>0.001830</td>\n",
              "      <td>5</td>\n",
              "      <td>0.1270</td>\n",
              "      <td>-4.823</td>\n",
              "      <td>1</td>\n",
              "      <td>0.0406</td>\n",
              "      <td>120.098</td>\n",
              "      <td>0</td>\n",
              "      <td>0.5660</td>\n",
              "    </tr>\n",
              "    <tr>\n",
              "      <th>230946</th>\n",
              "      <td>Soul</td>\n",
              "      <td>James Brown</td>\n",
              "      <td>Papa's Got A Brand New Bag - Pt. 1</td>\n",
              "      <td>5aZzmPUv5a2nna9sxBrmpL</td>\n",
              "      <td>1</td>\n",
              "      <td>0.51900</td>\n",
              "      <td>0.775</td>\n",
              "      <td>128973</td>\n",
              "      <td>0.725</td>\n",
              "      <td>0.054100</td>\n",
              "      <td>5</td>\n",
              "      <td>0.0944</td>\n",
              "      <td>-8.369</td>\n",
              "      <td>1</td>\n",
              "      <td>0.0944</td>\n",
              "      <td>129.681</td>\n",
              "      <td>0</td>\n",
              "      <td>0.9140</td>\n",
              "    </tr>\n",
              "    <tr>\n",
              "      <th>231493</th>\n",
              "      <td>Soul</td>\n",
              "      <td>Simply Red</td>\n",
              "      <td>The Air That I Breathe</td>\n",
              "      <td>4Sfq2ZuUK9tS66eXqCCKRF</td>\n",
              "      <td>1</td>\n",
              "      <td>0.21000</td>\n",
              "      <td>0.660</td>\n",
              "      <td>262827</td>\n",
              "      <td>0.560</td>\n",
              "      <td>0.000040</td>\n",
              "      <td>2</td>\n",
              "      <td>0.0974</td>\n",
              "      <td>-8.894</td>\n",
              "      <td>1</td>\n",
              "      <td>0.0287</td>\n",
              "      <td>89.505</td>\n",
              "      <td>0</td>\n",
              "      <td>0.6410</td>\n",
              "    </tr>\n",
              "  </tbody>\n",
              "</table>\n",
              "<p>49104 rows × 18 columns</p>\n",
              "</div>\n",
              "      <button class=\"colab-df-convert\" onclick=\"convertToInteractive('df-9dc49e59-9e90-4162-8bd1-de42b7ad5f76')\"\n",
              "              title=\"Convert this dataframe to an interactive table.\"\n",
              "              style=\"display:none;\">\n",
              "        \n",
              "  <svg xmlns=\"http://www.w3.org/2000/svg\" height=\"24px\"viewBox=\"0 0 24 24\"\n",
              "       width=\"24px\">\n",
              "    <path d=\"M0 0h24v24H0V0z\" fill=\"none\"/>\n",
              "    <path d=\"M18.56 5.44l.94 2.06.94-2.06 2.06-.94-2.06-.94-.94-2.06-.94 2.06-2.06.94zm-11 1L8.5 8.5l.94-2.06 2.06-.94-2.06-.94L8.5 2.5l-.94 2.06-2.06.94zm10 10l.94 2.06.94-2.06 2.06-.94-2.06-.94-.94-2.06-.94 2.06-2.06.94z\"/><path d=\"M17.41 7.96l-1.37-1.37c-.4-.4-.92-.59-1.43-.59-.52 0-1.04.2-1.43.59L10.3 9.45l-7.72 7.72c-.78.78-.78 2.05 0 2.83L4 21.41c.39.39.9.59 1.41.59.51 0 1.02-.2 1.41-.59l7.78-7.78 2.81-2.81c.8-.78.8-2.07 0-2.86zM5.41 20L4 18.59l7.72-7.72 1.47 1.35L5.41 20z\"/>\n",
              "  </svg>\n",
              "      </button>\n",
              "      \n",
              "  <style>\n",
              "    .colab-df-container {\n",
              "      display:flex;\n",
              "      flex-wrap:wrap;\n",
              "      gap: 12px;\n",
              "    }\n",
              "\n",
              "    .colab-df-convert {\n",
              "      background-color: #E8F0FE;\n",
              "      border: none;\n",
              "      border-radius: 50%;\n",
              "      cursor: pointer;\n",
              "      display: none;\n",
              "      fill: #1967D2;\n",
              "      height: 32px;\n",
              "      padding: 0 0 0 0;\n",
              "      width: 32px;\n",
              "    }\n",
              "\n",
              "    .colab-df-convert:hover {\n",
              "      background-color: #E2EBFA;\n",
              "      box-shadow: 0px 1px 2px rgba(60, 64, 67, 0.3), 0px 1px 3px 1px rgba(60, 64, 67, 0.15);\n",
              "      fill: #174EA6;\n",
              "    }\n",
              "\n",
              "    [theme=dark] .colab-df-convert {\n",
              "      background-color: #3B4455;\n",
              "      fill: #D2E3FC;\n",
              "    }\n",
              "\n",
              "    [theme=dark] .colab-df-convert:hover {\n",
              "      background-color: #434B5C;\n",
              "      box-shadow: 0px 1px 3px 1px rgba(0, 0, 0, 0.15);\n",
              "      filter: drop-shadow(0px 1px 2px rgba(0, 0, 0, 0.3));\n",
              "      fill: #FFFFFF;\n",
              "    }\n",
              "  </style>\n",
              "\n",
              "      <script>\n",
              "        const buttonEl =\n",
              "          document.querySelector('#df-9dc49e59-9e90-4162-8bd1-de42b7ad5f76 button.colab-df-convert');\n",
              "        buttonEl.style.display =\n",
              "          google.colab.kernel.accessAllowed ? 'block' : 'none';\n",
              "\n",
              "        async function convertToInteractive(key) {\n",
              "          const element = document.querySelector('#df-9dc49e59-9e90-4162-8bd1-de42b7ad5f76');\n",
              "          const dataTable =\n",
              "            await google.colab.kernel.invokeFunction('convertToInteractive',\n",
              "                                                     [key], {});\n",
              "          if (!dataTable) return;\n",
              "\n",
              "          const docLinkHtml = 'Like what you see? Visit the ' +\n",
              "            '<a target=\"_blank\" href=https://colab.research.google.com/notebooks/data_table.ipynb>data table notebook</a>'\n",
              "            + ' to learn more about interactive tables.';\n",
              "          element.innerHTML = '';\n",
              "          dataTable['output_type'] = 'display_data';\n",
              "          await google.colab.output.renderOutput(dataTable, element);\n",
              "          const docLink = document.createElement('div');\n",
              "          docLink.innerHTML = docLinkHtml;\n",
              "          element.appendChild(docLink);\n",
              "        }\n",
              "      </script>\n",
              "    </div>\n",
              "  </div>\n",
              "  "
            ],
            "text/plain": [
              "       genre     artist_name  ... time_signature valence\n",
              "135      R&B   Mary J. Blige  ...              0  0.6930\n",
              "136      R&B         Rihanna  ...              2  0.3230\n",
              "137      R&B       Yung Bleu  ...              0  0.0862\n",
              "138      R&B        Surfaces  ...              0  0.7680\n",
              "139      R&B  Olivia O'Brien  ...              0  0.4660\n",
              "...      ...             ...  ...            ...     ...\n",
              "230312  Soul     James Brown  ...              0  0.8580\n",
              "230782  Soul    Alex Hepburn  ...              0  0.6130\n",
              "230817  Soul    Paloma Faith  ...              0  0.5660\n",
              "230946  Soul     James Brown  ...              0  0.9140\n",
              "231493  Soul      Simply Red  ...              0  0.6410\n",
              "\n",
              "[49104 rows x 18 columns]"
            ]
          },
          "metadata": {},
          "execution_count": 53
        }
      ]
    },
    {
      "cell_type": "markdown",
      "source": [
        "# Previsão de Modelos"
      ],
      "metadata": {
        "id": "JPrOsz_i6n4L"
      }
    },
    {
      "cell_type": "markdown",
      "source": [
        "Como estudado, vamos usar alguns modelos de previsão para analisar e prever a semelhança das músicas."
      ],
      "metadata": {
        "id": "l0c2c0gB6urO"
      }
    },
    {
      "cell_type": "markdown",
      "source": [
        "### Packages"
      ],
      "metadata": {
        "id": "u8_R2TRp7M25"
      }
    },
    {
      "cell_type": "code",
      "source": [
        "from sklearn.linear_model import LogisticRegression\n",
        "from sklearn.ensemble import RandomForestClassifier\n",
        "from sklearn.neighbors import KNeighborsClassifier\n",
        "\n",
        "from sklearn.metrics import make_scorer, accuracy_score, roc_auc_score \n",
        "from sklearn.model_selection import GridSearchCV\n",
        "from sklearn.model_selection import train_test_split"
      ],
      "metadata": {
        "id": "moYKHjdM6ts7"
      },
      "execution_count": 54,
      "outputs": []
    },
    {
      "cell_type": "markdown",
      "source": [
        "## Features"
      ],
      "metadata": {
        "id": "LxD-fvtj8ncc"
      }
    },
    {
      "cell_type": "code",
      "source": [
        "features = [\"acousticness\", \"danceability\", \"duration_ms\", \"energy\", \"instrumentalness\", \"key\", \"liveness\", \n",
        "            \"mode\", \"speechiness\", \"tempo\", \"time_signature\", \"valence\"]"
      ],
      "metadata": {
        "id": "qYG5rfzn8lOv"
      },
      "execution_count": 55,
      "outputs": []
    },
    {
      "cell_type": "markdown",
      "source": [
        "## Training and Testing"
      ],
      "metadata": {
        "id": "yQRgeowo84oY"
      }
    },
    {
      "cell_type": "markdown",
      "source": [
        "Vamos definir 80% da base de dadospara treinar e 20% para testar."
      ],
      "metadata": {
        "id": "cqYg8ReK8tBJ"
      }
    },
    {
      "cell_type": "code",
      "source": [
        "training = dataframe.sample(frac = 0.8,random_state = 420)\n",
        "X_train = training[features]\n",
        "y_train = training['popularity']\n",
        "X_test = dataframe.drop(training.index)[features]"
      ],
      "metadata": {
        "id": "iWkzN_mS9C14"
      },
      "execution_count": 56,
      "outputs": []
    },
    {
      "cell_type": "markdown",
      "source": [
        "Usamos train_test_split para fazer o validation."
      ],
      "metadata": {
        "id": "X8o_rZMF9Hyk"
      }
    },
    {
      "cell_type": "code",
      "source": [
        "X_train, X_valid, y_train, y_valid = train_test_split(X_train, y_train, test_size = 0.2, random_state = 420)"
      ],
      "metadata": {
        "id": "mpdTL1x_94xa"
      },
      "execution_count": 57,
      "outputs": []
    },
    {
      "cell_type": "markdown",
      "source": [
        "### Logistic Regression"
      ],
      "metadata": {
        "id": "2DhFg6jG97_P"
      }
    },
    {
      "cell_type": "code",
      "source": [
        "LR_Model = LogisticRegression()\n",
        "LR_Model.fit(X_train, y_train)\n",
        "LR_Predict = LR_Model.predict(X_valid)\n",
        "LR_Accuracy = accuracy_score(y_valid, LR_Predict)\n",
        "print(\"Accuracy: \" + str(LR_Accuracy))"
      ],
      "metadata": {
        "colab": {
          "base_uri": "https://localhost:8080/"
        },
        "id": "uo57aMHD-A3c",
        "outputId": "55957ac4-f242-4f77-b34e-4c89a4f09fe5"
      },
      "execution_count": 58,
      "outputs": [
        {
          "output_type": "stream",
          "name": "stdout",
          "text": [
            "Accuracy: 0.7895316360511333\n"
          ]
        }
      ]
    },
    {
      "cell_type": "markdown",
      "source": [
        "### Random Forest Classifier"
      ],
      "metadata": {
        "id": "5QCHbOtS_U5E"
      }
    },
    {
      "cell_type": "code",
      "source": [
        "RFC_Model = RandomForestClassifier()\n",
        "RFC_Model.fit(X_train, y_train)\n",
        "RFC_Predict = RFC_Model.predict(X_valid)\n",
        "RFC_Accuracy = accuracy_score(y_valid, RFC_Predict)\n",
        "print(\"Accuracy: \" + str(RFC_Accuracy))"
      ],
      "metadata": {
        "colab": {
          "base_uri": "https://localhost:8080/"
        },
        "id": "ebKeuN4__UhU",
        "outputId": "8b00c682-a552-4144-c42f-20affe43fc19"
      },
      "execution_count": 59,
      "outputs": [
        {
          "output_type": "stream",
          "name": "stdout",
          "text": [
            "Accuracy: 0.9215275539800193\n"
          ]
        }
      ]
    },
    {
      "cell_type": "markdown",
      "source": [
        "### K-Nearest Neighbors Classifier (KNN)"
      ],
      "metadata": {
        "id": "9eNsuto6_Ili"
      }
    },
    {
      "cell_type": "code",
      "source": [
        "KNN_Model = KNeighborsClassifier()\n",
        "KNN_Model.fit(X_train, y_train)\n",
        "KNN_Predict = KNN_Model.predict(X_valid)\n",
        "KNN_Accuracy = accuracy_score(y_valid, KNN_Predict)\n",
        "print(\"Accuracy: \" + str(KNN_Accuracy))"
      ],
      "metadata": {
        "colab": {
          "base_uri": "https://localhost:8080/"
        },
        "id": "kZ-GeZrm_NEe",
        "outputId": "f5b47a82-09f3-4c82-abe4-e917c19e068d"
      },
      "execution_count": 60,
      "outputs": [
        {
          "output_type": "stream",
          "name": "stdout",
          "text": [
            "Accuracy: 0.7735524760983994\n"
          ]
        }
      ]
    },
    {
      "cell_type": "markdown",
      "source": [
        "## Resumo do desempenho dos modelos"
      ],
      "metadata": {
        "id": "B7dWdrDlAiQg"
      }
    },
    {
      "cell_type": "code",
      "source": [
        "model_performance_accuracy = pd.DataFrame({'Model': ['LogisticRegression', \n",
        "                                                      'RandomForestClassifier', \n",
        "                                                      'KNeighborsClassifier'],\n",
        "                                            'Accuracy': [LR_Accuracy,\n",
        "                                                         RFC_Accuracy,\n",
        "                                                         KNN_Accuracy]})"
      ],
      "metadata": {
        "id": "i7KxmgDZAzk_"
      },
      "execution_count": 61,
      "outputs": []
    },
    {
      "cell_type": "code",
      "source": [
        "model_performance_accuracy.sort_values(by = \"Accuracy\", ascending = False)"
      ],
      "metadata": {
        "colab": {
          "base_uri": "https://localhost:8080/",
          "height": 144
        },
        "id": "1hv5v0SbA_Lz",
        "outputId": "a8dd64eb-de68-4a8c-9d37-daea73f4dbe7"
      },
      "execution_count": 62,
      "outputs": [
        {
          "output_type": "execute_result",
          "data": {
            "text/html": [
              "\n",
              "  <div id=\"df-fd8ef57b-6d81-4bf2-9d25-57bea3c6dd2c\">\n",
              "    <div class=\"colab-df-container\">\n",
              "      <div>\n",
              "<style scoped>\n",
              "    .dataframe tbody tr th:only-of-type {\n",
              "        vertical-align: middle;\n",
              "    }\n",
              "\n",
              "    .dataframe tbody tr th {\n",
              "        vertical-align: top;\n",
              "    }\n",
              "\n",
              "    .dataframe thead th {\n",
              "        text-align: right;\n",
              "    }\n",
              "</style>\n",
              "<table border=\"1\" class=\"dataframe\">\n",
              "  <thead>\n",
              "    <tr style=\"text-align: right;\">\n",
              "      <th></th>\n",
              "      <th>Model</th>\n",
              "      <th>Accuracy</th>\n",
              "    </tr>\n",
              "  </thead>\n",
              "  <tbody>\n",
              "    <tr>\n",
              "      <th>1</th>\n",
              "      <td>RandomForestClassifier</td>\n",
              "      <td>0.921528</td>\n",
              "    </tr>\n",
              "    <tr>\n",
              "      <th>0</th>\n",
              "      <td>LogisticRegression</td>\n",
              "      <td>0.789532</td>\n",
              "    </tr>\n",
              "    <tr>\n",
              "      <th>2</th>\n",
              "      <td>KNeighborsClassifier</td>\n",
              "      <td>0.773552</td>\n",
              "    </tr>\n",
              "  </tbody>\n",
              "</table>\n",
              "</div>\n",
              "      <button class=\"colab-df-convert\" onclick=\"convertToInteractive('df-fd8ef57b-6d81-4bf2-9d25-57bea3c6dd2c')\"\n",
              "              title=\"Convert this dataframe to an interactive table.\"\n",
              "              style=\"display:none;\">\n",
              "        \n",
              "  <svg xmlns=\"http://www.w3.org/2000/svg\" height=\"24px\"viewBox=\"0 0 24 24\"\n",
              "       width=\"24px\">\n",
              "    <path d=\"M0 0h24v24H0V0z\" fill=\"none\"/>\n",
              "    <path d=\"M18.56 5.44l.94 2.06.94-2.06 2.06-.94-2.06-.94-.94-2.06-.94 2.06-2.06.94zm-11 1L8.5 8.5l.94-2.06 2.06-.94-2.06-.94L8.5 2.5l-.94 2.06-2.06.94zm10 10l.94 2.06.94-2.06 2.06-.94-2.06-.94-.94-2.06-.94 2.06-2.06.94z\"/><path d=\"M17.41 7.96l-1.37-1.37c-.4-.4-.92-.59-1.43-.59-.52 0-1.04.2-1.43.59L10.3 9.45l-7.72 7.72c-.78.78-.78 2.05 0 2.83L4 21.41c.39.39.9.59 1.41.59.51 0 1.02-.2 1.41-.59l7.78-7.78 2.81-2.81c.8-.78.8-2.07 0-2.86zM5.41 20L4 18.59l7.72-7.72 1.47 1.35L5.41 20z\"/>\n",
              "  </svg>\n",
              "      </button>\n",
              "      \n",
              "  <style>\n",
              "    .colab-df-container {\n",
              "      display:flex;\n",
              "      flex-wrap:wrap;\n",
              "      gap: 12px;\n",
              "    }\n",
              "\n",
              "    .colab-df-convert {\n",
              "      background-color: #E8F0FE;\n",
              "      border: none;\n",
              "      border-radius: 50%;\n",
              "      cursor: pointer;\n",
              "      display: none;\n",
              "      fill: #1967D2;\n",
              "      height: 32px;\n",
              "      padding: 0 0 0 0;\n",
              "      width: 32px;\n",
              "    }\n",
              "\n",
              "    .colab-df-convert:hover {\n",
              "      background-color: #E2EBFA;\n",
              "      box-shadow: 0px 1px 2px rgba(60, 64, 67, 0.3), 0px 1px 3px 1px rgba(60, 64, 67, 0.15);\n",
              "      fill: #174EA6;\n",
              "    }\n",
              "\n",
              "    [theme=dark] .colab-df-convert {\n",
              "      background-color: #3B4455;\n",
              "      fill: #D2E3FC;\n",
              "    }\n",
              "\n",
              "    [theme=dark] .colab-df-convert:hover {\n",
              "      background-color: #434B5C;\n",
              "      box-shadow: 0px 1px 3px 1px rgba(0, 0, 0, 0.15);\n",
              "      filter: drop-shadow(0px 1px 2px rgba(0, 0, 0, 0.3));\n",
              "      fill: #FFFFFF;\n",
              "    }\n",
              "  </style>\n",
              "\n",
              "      <script>\n",
              "        const buttonEl =\n",
              "          document.querySelector('#df-fd8ef57b-6d81-4bf2-9d25-57bea3c6dd2c button.colab-df-convert');\n",
              "        buttonEl.style.display =\n",
              "          google.colab.kernel.accessAllowed ? 'block' : 'none';\n",
              "\n",
              "        async function convertToInteractive(key) {\n",
              "          const element = document.querySelector('#df-fd8ef57b-6d81-4bf2-9d25-57bea3c6dd2c');\n",
              "          const dataTable =\n",
              "            await google.colab.kernel.invokeFunction('convertToInteractive',\n",
              "                                                     [key], {});\n",
              "          if (!dataTable) return;\n",
              "\n",
              "          const docLinkHtml = 'Like what you see? Visit the ' +\n",
              "            '<a target=\"_blank\" href=https://colab.research.google.com/notebooks/data_table.ipynb>data table notebook</a>'\n",
              "            + ' to learn more about interactive tables.';\n",
              "          element.innerHTML = '';\n",
              "          dataTable['output_type'] = 'display_data';\n",
              "          await google.colab.output.renderOutput(dataTable, element);\n",
              "          const docLink = document.createElement('div');\n",
              "          docLink.innerHTML = docLinkHtml;\n",
              "          element.appendChild(docLink);\n",
              "        }\n",
              "      </script>\n",
              "    </div>\n",
              "  </div>\n",
              "  "
            ],
            "text/plain": [
              "                    Model  Accuracy\n",
              "1  RandomForestClassifier  0.921528\n",
              "0      LogisticRegression  0.789532\n",
              "2    KNeighborsClassifier  0.773552"
            ]
          },
          "metadata": {},
          "execution_count": 62
        }
      ]
    },
    {
      "cell_type": "markdown",
      "source": [
        "# Conclusão"
      ],
      "metadata": {
        "id": "EuASNyuABMq9"
      }
    },
    {
      "cell_type": "markdown",
      "source": [
        "Usando somente features que tratam de questões de audio da música, conseguimos prever a popularidade de músicas sem influência de fatores externos, como artista ou gênero musical. O Random Forest Classifier se mostrou o melhor teste, com 92% de acuracia."
      ],
      "metadata": {
        "id": "9GL1YR4fBPJa"
      }
    },
    {
      "cell_type": "markdown",
      "source": [
        "# Referências\n",
        "\n",
        "\n",
        "1.  [Song Popularity Predictor Mohamed Nasreldin-Mohamed Nasreldin](https://towardsdatascience.com/song-popularity-predictor-1ef69735e380)\n",
        "2.  [Spotify Tracks DB](https://www.kaggle.com/zaheenhamidani/ultimate-spotify-tracks-db)\n",
        "\n"
      ],
      "metadata": {
        "id": "RgNzgGLvCWlr"
      }
    }
  ],
  "metadata": {
    "colab": {
      "collapsed_sections": [
        "3o6wz8UBngFJ",
        "NG-kwEeXolM1",
        "KiBm2BjApe4N",
        "iU7vR_XOrp7F"
      ],
      "name": "TPICD.ipynb",
      "provenance": []
    },
    "kernelspec": {
      "display_name": "Python 3",
      "name": "python3"
    },
    "language_info": {
      "name": "python"
    }
  },
  "nbformat": 4,
  "nbformat_minor": 0
}